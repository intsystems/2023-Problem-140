{
 "cells": [
  {
   "cell_type": "code",
   "execution_count": 1,
   "id": "9afcba36",
   "metadata": {},
   "outputs": [],
   "source": [
    "import numpy as np \n",
    "import pandas as pd\n",
    "import matplotlib.pyplot as plt\n",
    "\n",
    "from tqdm import tqdm\n",
    "\n",
    "import torch\n",
    "import torch.fx\n",
    "from torch.fx.node import Node\n",
    "from torchmetrics import Accuracy\n",
    "\n",
    "from typing import Dict\n",
    "\n",
    "\n",
    "import sys\n",
    "sys.path.append('..')\n",
    "\n",
    "from fast_nas_adapt.src.resnet18 import ResNet18\n",
    "from fast_nas_adapt.src.module2graph import GraphInterperterWithGamma"
   ]
  },
  {
   "cell_type": "code",
   "execution_count": 2,
   "id": "2050b8a9",
   "metadata": {},
   "outputs": [],
   "source": [
    "class GraphInterperterWithGumbelSoftmaxGamma(GraphInterperterWithGamma):\n",
    "    def __init__(self, mod, /, *, gamma_shift=0.0, temperature=1.0):\n",
    "        self.gamma_shift = gamma_shift\n",
    "        self.temperature = temperature\n",
    "        super().__init__(mod)\n",
    "\n",
    "    def init_gammas(self):\n",
    "        i = 0\n",
    "        gammas = []\n",
    "        self.gammas_name = {}\n",
    "        for node in self.graph.nodes:\n",
    "            if node.op == 'call_module':\n",
    "                gammas.append(np.random.randn()+self.gamma_shift)\n",
    "                self.gammas_name[str(node)] = i# перевод в str тут для удобства. в реалньых методах это не нужно\n",
    "                i+=1                        # да и вообще, тут по идее должен быть тензор/параметр\n",
    "        self.gammas =  torch.nn.Parameter(torch.as_tensor(gammas), requires_grad = True)\n",
    "        self.discrete = False \n",
    "\n",
    "    def sample_gammas(self):\n",
    "        if self.discrete:\n",
    "            return self.gammas\n",
    "        else:\n",
    "            d = torch.distributions.RelaxedBernoulli(logits=self.gammas, temperature=self.temperature)\n",
    "            return d.rsample()\n",
    "        \n",
    "    def make_gammas_discrete(self):\n",
    "        self.gammas.data = (self.gammas.data>=0) * 1.0\n",
    "        self.gammas.requires_grad = False \n",
    "        self.discrete = True"
   ]
  },
  {
   "cell_type": "code",
   "execution_count": 3,
   "id": "6b6d3397",
   "metadata": {},
   "outputs": [
    {
     "name": "stderr",
     "output_type": "stream",
     "text": [
      "Using cache found in /Users/b1/.cache/torch/hub/pytorch_vision_v0.10.0\n",
      "/Users/b1/Library/Python/3.8/lib/python/site-packages/torchvision/models/_utils.py:208: UserWarning: The parameter 'pretrained' is deprecated since 0.13 and may be removed in the future, please use 'weights' instead.\n",
      "  warnings.warn(\n",
      "/Users/b1/Library/Python/3.8/lib/python/site-packages/torchvision/models/_utils.py:223: UserWarning: Arguments other than a weight enum or `None` for 'weights' are deprecated since 0.13 and may be removed in the future. The current behavior is equivalent to passing `weights=ResNet18_Weights.IMAGENET1K_V1`. You can also use `weights=ResNet18_Weights.DEFAULT` to get the most up-to-date weights.\n",
      "  warnings.warn(msg)\n"
     ]
    },
    {
     "data": {
      "text/plain": [
       "<All keys matched successfully>"
      ]
     },
     "execution_count": 3,
     "metadata": {},
     "output_type": "execute_result"
    }
   ],
   "source": [
    "model = ResNet18(num_classes=10)\n",
    "\n",
    "model_path = '../fast_nas_adapt/cv_experiment/results/aggressive/model_8.ckpt'\n",
    "state_dict = torch.load(model_path)\n",
    "model.load_state_dict(state_dict)"
   ]
  },
  {
   "cell_type": "code",
   "execution_count": 4,
   "id": "b0885b04",
   "metadata": {
    "scrolled": true
   },
   "outputs": [
    {
     "name": "stdout",
     "output_type": "stream",
     "text": [
      "Files already downloaded and verified\n",
      "Files already downloaded and verified\n"
     ]
    }
   ],
   "source": [
    "from fast_nas_adapt.src.cifar_data import get_dataloaders\n",
    "\n",
    "train_dl, test_dl = get_dataloaders(classes=range(10), batch_size=64, img_size=33)"
   ]
  },
  {
   "cell_type": "code",
   "execution_count": 5,
   "id": "cb0b1ff8",
   "metadata": {},
   "outputs": [],
   "source": [
    "for param in model.parameters():\n",
    "    param.requires_grad = False\n",
    "\n",
    "loss_fn = torch.nn.CrossEntropyLoss()\n",
    "\n",
    "times = pd.read_csv(\"ResNet18HomeMeasurments.csv\", index_col=0)\n",
    "times = torch.tensor(times['mean'], dtype=torch.float32)"
   ]
  },
  {
   "cell_type": "code",
   "execution_count": 6,
   "id": "c7f95ead",
   "metadata": {
    "scrolled": false
   },
   "outputs": [
    {
     "name": "stderr",
     "output_type": "stream",
     "text": [
      "validating:   6%|█▉                            | 10/157 [00:02<00:32,  4.59it/s]\n"
     ]
    },
    {
     "data": {
      "text/plain": [
       "(1.5087593, 0.5383522510528564)"
      ]
     },
     "execution_count": 6,
     "metadata": {},
     "output_type": "execute_result"
    }
   ],
   "source": [
    "metric = Accuracy(task=\"multiclass\", num_classes=10)\n",
    "\n",
    "loss = []\n",
    "accs = []\n",
    "\n",
    "for i, (X, y) in tqdm(enumerate(test_dl), 'validating', total=len(test_dl)):\n",
    "    if X.shape[0] != 64:\n",
    "        continue\n",
    "\n",
    "    logits = model(X)[0].detach()\n",
    "    loss.append(loss_fn(logits, y))\n",
    "    metric(logits.argmax(-1), y)\n",
    "\n",
    "    if i == 10:\n",
    "        break\n",
    "\n",
    "np.mean(loss), metric.compute().item()"
   ]
  },
  {
   "cell_type": "code",
   "execution_count": 7,
   "id": "8a874625",
   "metadata": {},
   "outputs": [],
   "source": [
    "def train_epoch(m, /, *, lambd):\n",
    "    optimizer = torch.optim.Adam([m.gammas])\n",
    "    \n",
    "    for i, (X, y) in tqdm(enumerate(train_dl), 'training', total=len(train_dl)):\n",
    "        optimizer.zero_grad()\n",
    "        y_pred = m(X)\n",
    "        loss = loss_fn(y_pred, y) + lambd * m.gammas.dot(times)\n",
    "        loss.backward(retain_graph=True)\n",
    "        optimizer.step()\n",
    "\n",
    "        if i == 10:\n",
    "            break\n",
    "\n",
    "def validate(m):\n",
    "    metric = Accuracy(task=\"multiclass\", num_classes=10)\n",
    "    \n",
    "    loss = []\n",
    "    \n",
    "    for i, (X, y) in tqdm(enumerate(test_dl), 'validating', total=len(test_dl)):\n",
    "        if X.shape[0] != 64:\n",
    "            continue\n",
    "\n",
    "        logits = m(X).detach()\n",
    "        loss.append(loss_fn(logits, y))\n",
    "        metric(logits.argmax(-1), y)\n",
    "\n",
    "        if i == 10:\n",
    "            break\n",
    "\n",
    "    return np.mean(loss), metric.compute().item()"
   ]
  },
  {
   "cell_type": "code",
   "execution_count": 8,
   "id": "0523e3e4",
   "metadata": {
    "scrolled": false
   },
   "outputs": [
    {
     "name": "stderr",
     "output_type": "stream",
     "text": [
      "training:   1%|▍                               | 10/782 [00:04<05:39,  2.28it/s]\n",
      "validating:   6%|█▉                            | 10/157 [00:02<00:34,  4.22it/s]\n"
     ]
    },
    {
     "name": "stdout",
     "output_type": "stream",
     "text": [
      "0 5.335446 0.17329545319080353\n"
     ]
    },
    {
     "name": "stderr",
     "output_type": "stream",
     "text": [
      "training:   1%|▍                               | 10/782 [00:04<05:34,  2.31it/s]\n",
      "validating:   6%|█▉                            | 10/157 [00:02<00:34,  4.26it/s]\n"
     ]
    },
    {
     "name": "stdout",
     "output_type": "stream",
     "text": [
      "1 2.3067477 0.09943182021379471\n"
     ]
    },
    {
     "data": {
      "image/png": "[encoded data removed]",
      "text/plain": [
       "<Figure size 432x288 with 1 Axes>"
      ]
     },
     "metadata": {
      "needs_background": "light"
     },
     "output_type": "display_data"
    }
   ],
   "source": [
    "epoches = 1\n",
    "\n",
    "for lambd in [0, 1]:\n",
    "    imodel = GraphInterperterWithGumbelSoftmaxGamma(model.eval())\n",
    "\n",
    "    imodel.train()\n",
    "    for epoch in range(epoches):\n",
    "        train_epoch(imodel, lambd=lambd)\n",
    "    imodel.eval()\n",
    "\n",
    "    plt.imshow(imodel.gammas.detach().reshape(-1, 10))\n",
    "    imodel.make_gammas_discrete()\n",
    "\n",
    "    loss, accuracy = validate(imodel)\n",
    "    \n",
    "    print(lambd, loss, accuracy)"
   ]
  },
  {
   "cell_type": "code",
   "execution_count": null,
   "id": "a928686b",
   "metadata": {},
   "outputs": [],
   "source": []
  }
 ],
 "metadata": {
  "kernelspec": {
   "display_name": "Python 3 (ipykernel)",
   "language": "python",
   "name": "python3"
  },
  "language_info": {
   "codemirror_mode": {
    "name": "ipython",
    "version": 3
   },
   "file_extension": ".py",
   "mimetype": "text/x-python",
   "name": "python",
   "nbconvert_exporter": "python",
   "pygments_lexer": "ipython3",
   "version": "3.8.2"
  }
 },
 "nbformat": 4,
 "nbformat_minor": 5
}
