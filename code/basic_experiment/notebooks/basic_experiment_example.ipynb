{
 "cells": [
  {
   "cell_type": "markdown",
   "id": "8ea77fe5",
   "metadata": {},
   "source": [
    "## Код, который не относится к проблеме переведен в `raw`, чтобы не запускаться."
   ]
  },
  {
   "cell_type": "code",
   "execution_count": 1,
   "id": "3749f392",
   "metadata": {},
   "outputs": [
    {
     "name": "stdout",
     "output_type": "stream",
     "text": [
      "/Users/b1/Desktop/m1p\n"
     ]
    }
   ],
   "source": [
    "%cd ../../.."
   ]
  },
  {
   "cell_type": "code",
   "execution_count": 2,
   "id": "6d034c3d",
   "metadata": {
    "scrolled": true
   },
   "outputs": [],
   "source": [
    "from tqdm import tqdm\n",
    "from typing import Dict\n",
    "import time\n",
    "\n",
    "import torch\n",
    "import torch.fx\n",
    "from torch.fx.node import Node\n",
    "\n",
    "import numpy as np \n",
    "import pandas as pd\n",
    "import matplotlib.pyplot as plt\n",
    "\n",
    "import module2graph\n",
    "from module2graph import GraphInterperterWithGamma\n",
    "from fast_nas_adapt.src.resnet18 import ResNet18\n"
   ]
  },
  {
   "cell_type": "markdown",
   "id": "7f3a41a2",
   "metadata": {},
   "source": [
    "Тут был код, который замерял время. Сейчас он в файле"
   ]
  },
  {
   "cell_type": "code",
   "execution_count": 3,
   "id": "86333e9a-0ec1-4323-9de3-bb15c6efedce",
   "metadata": {},
   "outputs": [],
   "source": [
    "class GraphInterperterWithGumbelSoftmaxGamma(GraphInterperterWithGamma):\n",
    "    def __init__(self, mod, gamma_shift=0.0, temperature=1.0):\n",
    "        self.gamma_shift = gamma_shift\n",
    "        self.temperature = temperature\n",
    "        super().__init__(mod)\n",
    "\n",
    "    def init_gammas(self):\n",
    "        i = 0\n",
    "        gammas = []\n",
    "        self.gammas_name = {}\n",
    "        for node in self.graph.nodes:\n",
    "            if node.op == 'call_module':\n",
    "                gammas.append(np.random.randn()+self.gamma_shift)\n",
    "                self.gammas_name[str(node)] = i# перевод в str тут для удобства. в реалньых методах это не нужно\n",
    "                i+=1                        # да и вообще, тут по идее должен быть тензор/параметр\n",
    "        self.gammas =  torch.nn.Parameter(torch.as_tensor(gammas), requires_grad = True)\n",
    "        self.discrete = False \n",
    "\n",
    "    def sample_gammas(self):\n",
    "        if self.discrete:\n",
    "            return self.gammas\n",
    "        else:\n",
    "            d = torch.distributions.RelaxedBernoulli(logits=self.gammas, temperature=self.temperature)\n",
    "            return d.rsample()\n",
    "        \n",
    "    def make_gammas_discrete(self):\n",
    "        self.gammas.data = (self.gammas.data>=0) * 1.0\n",
    "        self.gammas.requires_grad = False \n",
    "        self.discrete = True"
   ]
  },
  {
   "cell_type": "markdown",
   "id": "9b90ba9f",
   "metadata": {},
   "source": [
    "Получим претрейн на n эпох"
   ]
  },
  {
   "cell_type": "code",
   "execution_count": 4,
   "id": "02edb62a",
   "metadata": {},
   "outputs": [],
   "source": [
    "from fast_nas_adapt.src.cifar_data import get_dataloaders\n",
    "from fast_nas_adapt.src import *"
   ]
  },
  {
   "cell_type": "code",
   "execution_count": 5,
   "id": "682c250e",
   "metadata": {
    "scrolled": true
   },
   "outputs": [
    {
     "name": "stderr",
     "output_type": "stream",
     "text": [
      "Using cache found in /Users/b1/.cache/torch/hub/pytorch_vision_v0.10.0\n",
      "/Users/b1/Library/Python/3.8/lib/python/site-packages/torchvision/models/_utils.py:208: UserWarning: The parameter 'pretrained' is deprecated since 0.13 and may be removed in the future, please use 'weights' instead.\n",
      "  warnings.warn(\n",
      "/Users/b1/Library/Python/3.8/lib/python/site-packages/torchvision/models/_utils.py:223: UserWarning: Arguments other than a weight enum or `None` for 'weights' are deprecated since 0.13 and may be removed in the future. The current behavior is equivalent to passing `weights=ResNet18_Weights.IMAGENET1K_V1`. You can also use `weights=ResNet18_Weights.DEFAULT` to get the most up-to-date weights.\n",
      "  warnings.warn(msg)\n"
     ]
    },
    {
     "name": "stdout",
     "output_type": "stream",
     "text": [
      "Files already downloaded and verified\n",
      "Files already downloaded and verified\n"
     ]
    }
   ],
   "source": [
    "model = ResNet18(num_classes=10)#(num_classes=len(config.classes))\n",
    "\n",
    "\n",
    "train_dl, test_dl = get_dataloaders(classes=range(10), batch_size=64,\n",
    "                                    img_size=33)"
   ]
  },
  {
   "cell_type": "markdown",
   "id": "a8f0d25d",
   "metadata": {},
   "source": [
    "Гиперпараметры:"
   ]
  },
  {
   "cell_type": "code",
   "execution_count": 6,
   "id": "384b99a5",
   "metadata": {},
   "outputs": [],
   "source": [
    "imodel = GraphInterperterWithGumbelSoftmaxGamma(model.eval())\n",
    "\n",
    "imodel = GraphInterperterWithGumbelSoftmaxGamma(model.eval(), 1.0)\n",
    "optimizer = torch.optim.Adam([imodel.gammas])\n",
    "loss_fn = torch.nn.CrossEntropyLoss()\n"
   ]
  },
  {
   "cell_type": "code",
   "execution_count": 7,
   "id": "d93e6bd6-91fa-4179-ba05-902d299d40ae",
   "metadata": {
    "scrolled": true
   },
   "outputs": [
    {
     "name": "stdout",
     "output_type": "stream",
     "text": [
      "torch.Size([64, 10]) torch.Size([64, 10])\n"
     ]
    }
   ],
   "source": [
    "### TEST\n",
    "with torch.no_grad():\n",
    "    x = torch.randn(64, 3, 32, 32)\n",
    "    print(model(x)[0].shape, imodel(x).shape)"
   ]
  },
  {
   "cell_type": "code",
   "execution_count": 11,
   "id": "292e04ad",
   "metadata": {},
   "outputs": [
    {
     "data": {
      "text/plain": [
       "'2023-03-12/19:25:03'"
      ]
     },
     "execution_count": 11,
     "metadata": {},
     "output_type": "execute_result"
    }
   ],
   "source": [
    "import time\n",
    "ts = time.time()\n",
    "ts\n",
    "\n",
    "import datetime\n",
    "datetime.datetime.fromtimestamp(ts).strftime('%Y-%m-%d/%H:%M:%S')"
   ]
  },
  {
   "cell_type": "code",
   "execution_count": 17,
   "id": "09300e0a",
   "metadata": {},
   "outputs": [],
   "source": [
    "def get_timestamp():\n",
    "    ts = time.time()\n",
    "    return datetime.datetime.fromtimestamp(ts).strftime('%Y-%m-%d-%H:%M:%S')"
   ]
  },
  {
   "cell_type": "code",
   "execution_count": 19,
   "id": "f78706cc",
   "metadata": {},
   "outputs": [
    {
     "name": "stdout",
     "output_type": "stream",
     "text": [
      "EPOCH 0:\n"
     ]
    },
    {
     "name": "stderr",
     "output_type": "stream",
     "text": [
      "training:   1%|▍                               | 10/782 [00:20<25:47,  2.00s/it]\n"
     ]
    },
    {
     "name": "stdout",
     "output_type": "stream",
     "text": [
      "epoch trained\n"
     ]
    },
    {
     "name": "stderr",
     "output_type": "stream",
     "text": [
      "validating:   6%|█▉                            | 10/157 [00:02<00:32,  4.55it/s]\n"
     ]
    },
    {
     "name": "stdout",
     "output_type": "stream",
     "text": [
      "LOSS train 2.3232768232172187 valid 2.0951454639434814\n"
     ]
    }
   ],
   "source": [
    "epoch_number = 0\n",
    "\n",
    "EPOCHS = 1\n",
    "\n",
    "best_vloss = 1_000_000.\n",
    "\n",
    "for epoch in range(EPOCHS):\n",
    "    print(f'EPOCH {epoch_number}:')\n",
    "\n",
    "    imodel.train()\n",
    "\n",
    "    epoch_history = []\n",
    "    for i, (X, y) in tqdm(enumerate(train_dl), 'training', total=len(train_dl)):\n",
    "        optimizer.zero_grad()\n",
    "        y_pred = imodel(X)\n",
    "        loss = loss_fn(y_pred, y)# + lambd * imodel.gammas.dot(times)\n",
    "        loss.backward(retain_graph=True)\n",
    "        optimizer.step()\n",
    "\n",
    "        epoch_history.append(loss.item())\n",
    "        \n",
    "        if i == 10:\n",
    "            break\n",
    "    avg_loss = np.mean(epoch_history)\n",
    "\n",
    "    imodel.eval()\n",
    "    \n",
    "    print('epoch trained')\n",
    "\n",
    "    running_vloss = 0.0\n",
    "    for i, (X, y) in tqdm(enumerate(test_dl), 'validating', total=len(test_dl)):\n",
    "        if i == 10:\n",
    "            break\n",
    "        if X.shape[0] != 64:\n",
    "            continue\n",
    "        running_vloss += loss_fn(imodel(X), y)\n",
    "    avg_vloss = running_vloss / (i + 1)\n",
    "    print('LOSS train {} valid {}'.format(avg_loss, avg_vloss))\n",
    "\n",
    "    # Track best performance, and save the model's state\n",
    "    if avg_vloss < best_vloss:\n",
    "        best_vloss = avg_vloss\n",
    "        model_path = 'model_ts{}_epoch{}'.format(get_timestamp(), epoch_number)\n",
    "        torch.save(model.state_dict(), model_path)\n",
    "\n",
    "    epoch_number += 1"
   ]
  },
  {
   "cell_type": "code",
   "execution_count": null,
   "id": "c2b63ce5",
   "metadata": {},
   "outputs": [],
   "source": []
  }
 ],
 "metadata": {
  "kernelspec": {
   "display_name": "Python 3 (ipykernel)",
   "language": "python",
   "name": "python3"
  },
  "language_info": {
   "codemirror_mode": {
    "name": "ipython",
    "version": 3
   },
   "file_extension": ".py",
   "mimetype": "text/x-python",
   "name": "python",
   "nbconvert_exporter": "python",
   "pygments_lexer": "ipython3",
   "version": "3.8.2"
  },
  "vscode": {
   "interpreter": {
    "hash": "1a1af0ee75eeea9e2e1ee996c87e7a2b11a0bebd85af04bb136d915cefc0abce"
   }
  }
 },
 "nbformat": 4,
 "nbformat_minor": 5
}
