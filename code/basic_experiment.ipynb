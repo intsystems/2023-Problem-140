{
  "cells": [
    {
      "attachments": {},
      "cell_type": "markdown",
      "id": "88c1ba9c",
      "metadata": {},
      "source": [
        "## Запускается на колабе\n",
        "\n",
        "см. https://drive.google.com/drive/folders/1t-RrkkEU1cVZrpE0ZLnSt4O6Ti1N3176?usp=sharing\n",
        "\n",
        "Можно сделать алиас на эту папку, чтобы работало. Но не получиться сохранять графики, потому что ссылка даёт доступ на читателя. Стоит закомментировать строчки:\n",
        "\n",
        "`plt.savefig('/content/drive/MyDrive/m1p/figs/{}.png', bbox_inches='tight')`"
      ]
    },
    {
      "cell_type": "code",
      "execution_count": null,
      "id": "eO2UR9qYnz5G",
      "metadata": {
        "colab": {
          "base_uri": "https://localhost:8080/"
        },
        "id": "eO2UR9qYnz5G",
        "outputId": "aa8b3ff7-aa55-4311-af67-51a2d326859e"
      },
      "outputs": [
        {
          "name": "stdout",
          "output_type": "stream",
          "text": [
            "Mounted at /content/drive\n"
          ]
        }
      ],
      "source": [
        "from google.colab import drive\n",
        "drive.mount('/content/drive')"
      ]
    },
    {
      "cell_type": "code",
      "execution_count": null,
      "id": "6d034c3d",
      "metadata": {
        "id": "6d034c3d"
      },
      "outputs": [],
      "source": [
        "from tqdm import tqdm\n",
        "from typing import Dict\n",
        "import time\n",
        "\n",
        "import torch\n",
        "import torch.fx\n",
        "from torch.fx.node import Node\n",
        "\n",
        "import numpy as np \n",
        "import pandas as pd\n",
        "import matplotlib as mpl\n",
        "import matplotlib.pyplot as plt\n",
        "import seaborn as sns\n",
        "mpl.style.use('seaborn')\n",
        "\n",
        "import sys\n",
        "sys.path.append('/content/drive/MyDrive/m1p')\n",
        "\n",
        "from fast_nas_adapt.src.resnet18 import ResNet18\n",
        "from fast_nas_adapt.src.module2graph import GraphInterperterWithGamma\n"
      ]
    },
    {
      "cell_type": "markdown",
      "id": "7f3a41a2",
      "metadata": {
        "id": "7f3a41a2"
      },
      "source": [
        "Тут был код, который замерял время. Сейчас он в файле"
      ]
    },
    {
      "cell_type": "code",
      "execution_count": null,
      "id": "86333e9a-0ec1-4323-9de3-bb15c6efedce",
      "metadata": {
        "id": "86333e9a-0ec1-4323-9de3-bb15c6efedce"
      },
      "outputs": [],
      "source": [
        "class GraphInterperterWithGumbelSoftmaxGamma(GraphInterperterWithGamma):\n",
        "    def __init__(self, mod, gamma_shift=0.0, temperature=1.0):\n",
        "        self.gamma_shift = gamma_shift\n",
        "        self.temperature = temperature\n",
        "        super().__init__(mod)\n",
        "\n",
        "    def init_gammas(self):\n",
        "        i = 0\n",
        "        gammas = []\n",
        "        self.gammas_name = {}\n",
        "        for node in self.graph.nodes:\n",
        "            if node.op == 'call_module':\n",
        "                gammas.append(np.random.randn()+self.gamma_shift)\n",
        "                self.gammas_name[str(node)] = i# перевод в str тут для удобства. в реалньых методах это не нужно\n",
        "                i+=1                        # да и вообще, тут по идее должен быть тензор/параметр\n",
        "        self.gammas =  torch.nn.Parameter(torch.as_tensor(gammas), requires_grad = True)\n",
        "        self.discrete = False \n",
        "\n",
        "    def sample_gammas(self):\n",
        "        if self.discrete:\n",
        "            return self.gammas\n",
        "        else:\n",
        "            d = torch.distributions.RelaxedBernoulli(logits=self.gammas, temperature=self.temperature)\n",
        "            return d.rsample()\n",
        "        \n",
        "    def make_gammas_discrete(self):\n",
        "        self.gammas.data = (self.gammas.data>=0) * 1.0\n",
        "        self.gammas.requires_grad = False \n",
        "        self.discrete = True"
      ]
    },
    {
      "cell_type": "markdown",
      "id": "9b90ba9f",
      "metadata": {
        "id": "9b90ba9f"
      },
      "source": [
        "Получим претрейн на n эпох"
      ]
    },
    {
      "cell_type": "code",
      "execution_count": null,
      "id": "02edb62a",
      "metadata": {
        "colab": {
          "base_uri": "https://localhost:8080/",
          "height": 104,
          "referenced_widgets": [
            "5db377147e85470db0e380e0c1f7487e",
            "53971eeb160040d1933376353d91ba2e",
            "8c407d2af0d54ac6972d27352022b6a4",
            "76a67a36b9834880a2ac19165e0e5ff6",
            "8797651af5f946019646393da566a80e",
            "df80846421fb48da8c2d91e8e2962fa3",
            "ccd6660c46614e639cd427f8b5bfa438",
            "d8a0795909d7475aae59383bd8bac6fb",
            "1f019340ea9544a3ac12846fc4bc594e",
            "ff5ea1cf971c4768a46f930de4833a16",
            "a1d28c697a8346448f1487038d5c7db4"
          ]
        },
        "id": "02edb62a",
        "outputId": "1d92a506-a977-410f-b1c2-6bf46214fd44"
      },
      "outputs": [
        {
          "name": "stderr",
          "output_type": "stream",
          "text": [
            "Downloading: \"https://github.com/pytorch/vision/zipball/v0.10.0\" to /root/.cache/torch/hub/v0.10.0.zip\n",
            "Downloading: \"https://download.pytorch.org/models/resnet18-f37072fd.pth\" to /root/.cache/torch/hub/checkpoints/resnet18-f37072fd.pth\n"
          ]
        },
        {
          "data": {
            "application/vnd.jupyter.widget-view+json": {
              "model_id": "5db377147e85470db0e380e0c1f7487e",
              "version_major": 2,
              "version_minor": 0
            },
            "text/plain": [
              "  0%|          | 0.00/44.7M [00:00<?, ?B/s]"
            ]
          },
          "metadata": {},
          "output_type": "display_data"
        },
        {
          "data": {
            "text/plain": [
              "<All keys matched successfully>"
            ]
          },
          "execution_count": 4,
          "metadata": {},
          "output_type": "execute_result"
        }
      ],
      "source": [
        "model = ResNet18(num_classes=10).cuda()\n",
        "\n",
        "model_path = '/content/drive/MyDrive/m1p/pretrained/model_23.ckpt'\n",
        "state_dict = torch.load(model_path)\n",
        "model.load_state_dict(state_dict)"
      ]
    },
    {
      "cell_type": "code",
      "execution_count": null,
      "id": "682c250e",
      "metadata": {
        "colab": {
          "base_uri": "https://localhost:8080/",
          "height": 104,
          "referenced_widgets": [
            "385f279bd98b435f9925e36e85608da9",
            "89877353b9e14965a6b3e2ac215d2218",
            "71fa033d01824d118d10c53d9fab2cee",
            "54207bb647404c5aa6102d6e4d3264e3",
            "e37108513f174a43b77ad570e4e6ac57",
            "dd6f19eaf1e2412282defe89a66af82e",
            "c24db525f7d64c5cab0351bc5a5abfff",
            "9c833af21dba406dbf2cd4920b67c52d",
            "d88bb7ea3b164ecbbce2a23bdb20f991",
            "7fec810e9ccb426ea61d282f5de220d4",
            "38515415cd6c41e48649f95ec962b266"
          ]
        },
        "id": "682c250e",
        "outputId": "0add8dd0-4223-485e-99ef-de9960e43ea9",
        "scrolled": true
      },
      "outputs": [
        {
          "name": "stdout",
          "output_type": "stream",
          "text": [
            "Downloading https://www.cs.toronto.edu/~kriz/cifar-10-python.tar.gz to ./data/cifar-10-python.tar.gz\n"
          ]
        },
        {
          "data": {
            "application/vnd.jupyter.widget-view+json": {
              "model_id": "385f279bd98b435f9925e36e85608da9",
              "version_major": 2,
              "version_minor": 0
            },
            "text/plain": [
              "  0%|          | 0/170498071 [00:00<?, ?it/s]"
            ]
          },
          "metadata": {},
          "output_type": "display_data"
        },
        {
          "name": "stdout",
          "output_type": "stream",
          "text": [
            "Extracting ./data/cifar-10-python.tar.gz to ./data\n",
            "Files already downloaded and verified\n"
          ]
        }
      ],
      "source": [
        "from fast_nas_adapt.src.cifar_data import get_dataloaders\n",
        "\n",
        "train_dl, test_dl = get_dataloaders(classes=range(10), batch_size=64,\n",
        "                                    img_size=33)\n"
      ]
    },
    {
      "cell_type": "code",
      "execution_count": null,
      "id": "f8f4cc70-5acb-495b-868e-e00d2b93d305",
      "metadata": {
        "id": "f8f4cc70-5acb-495b-868e-e00d2b93d305"
      },
      "outputs": [],
      "source": [
        "@torch.no_grad()\n",
        "def validate(model, dataloader, device):\n",
        "    model = model.to(device)\n",
        "    n_true = 0\n",
        "    n_tot = 0\n",
        "    for i, (X, y) in tqdm(enumerate(dataloader), 'validating'):\n",
        "        if X.shape[0] != 64:\n",
        "            continue\n",
        "        n_true += (model(X.to(device)).argmax(-1) == y.to(device)).sum().item()\n",
        "        n_tot += 64\n",
        "    return n_true / n_tot"
      ]
    },
    {
      "cell_type": "code",
      "execution_count": null,
      "id": "cb75b59a-e807-4ac7-b452-09344836505e",
      "metadata": {
        "colab": {
          "base_uri": "https://localhost:8080/"
        },
        "id": "cb75b59a-e807-4ac7-b452-09344836505e",
        "outputId": "9737a329-1403-4b1f-e810-a40676f4f57f"
      },
      "outputs": [
        {
          "name": "stderr",
          "output_type": "stream",
          "text": [
            "validating: 157it [00:08, 19.02it/s]\n"
          ]
        },
        {
          "data": {
            "text/plain": [
              "0.6464342948717948"
            ]
          },
          "execution_count": 9,
          "metadata": {},
          "output_type": "execute_result"
        }
      ],
      "source": [
        "validate(model, test_dl, 'cuda')"
      ]
    },
    {
      "cell_type": "markdown",
      "id": "a8f0d25d",
      "metadata": {
        "id": "a8f0d25d"
      },
      "source": [
        "Гиперпараметры:"
      ]
    },
    {
      "cell_type": "code",
      "execution_count": null,
      "id": "384b99a5",
      "metadata": {
        "colab": {
          "base_uri": "https://localhost:8080/"
        },
        "id": "384b99a5",
        "outputId": "b6eff610-e864-4d9a-c015-531ae83fe70e"
      },
      "outputs": [
        {
          "name": "stdout",
          "output_type": "stream",
          "text": [
            "tensor([0.9967, 0.9961, 0.9591, 0.9941, 0.9742, 0.9790, 0.9800, 0.9877, 0.9833,\n",
            "        0.9881, 0.9817, 0.9679, 0.9974, 0.8502, 0.9326, 0.9860, 0.9972, 0.9868,\n",
            "        0.9964, 0.9941, 0.9840, 0.9927, 0.9917, 0.9267, 0.9556, 0.9863, 0.9877,\n",
            "        0.9835, 0.9882, 0.9778, 0.9755, 0.9928, 0.9856, 0.9699, 0.9925, 0.9462,\n",
            "        0.9684, 0.9952, 0.9773, 0.9481, 0.9692, 0.9911, 0.9687, 0.9746, 0.9333,\n",
            "        0.9872, 0.9534, 0.8661, 0.9967, 0.9969, 0.9897, 0.9907, 0.9854, 0.9774,\n",
            "        0.9949, 0.8727, 0.9704, 0.9967, 0.9795, 0.9826], device='cuda:0',\n",
            "       grad_fn=<SigmoidBackward0>)\n"
          ]
        },
        {
          "name": "stderr",
          "output_type": "stream",
          "text": [
            "validating: 157it [00:01, 99.54it/s] \n"
          ]
        },
        {
          "data": {
            "text/plain": [
              "(0.10176282051282051,\n",
              " tensor([1.0000e+00, 1.0000e+00, 1.0000e+00, 1.0000e+00, 1.0000e+00, 1.0000e+00,\n",
              "         1.0000e+00, 1.0000e+00, 1.0000e+00, 1.0000e+00, 1.0000e+00, 1.0000e+00,\n",
              "         1.0000e+00, 1.0000e+00, 9.9810e-01, 1.0000e+00, 1.0000e+00, 1.0000e+00,\n",
              "         1.0000e+00, 1.0000e+00, 1.0000e+00, 1.0000e+00, 1.0000e+00, 9.9054e-01,\n",
              "         9.9984e-01, 1.0000e+00, 1.0000e+00, 1.0000e+00, 1.0000e+00, 1.0000e+00,\n",
              "         1.0000e+00, 1.0000e+00, 9.9999e-01, 9.7148e-01, 1.0000e+00, 1.0019e-02,\n",
              "         1.0000e+00, 1.0000e+00, 1.0000e+00, 1.0000e+00, 1.0000e+00, 1.0000e+00,\n",
              "         1.0000e+00, 1.0000e+00, 1.0000e+00, 9.9998e-01, 9.9998e-01, 1.0000e+00,\n",
              "         1.0000e+00, 1.0000e+00, 1.0000e+00, 1.0000e+00, 1.0000e+00, 1.0000e+00,\n",
              "         1.0000e+00, 1.6235e-04, 9.9460e-01, 1.0000e+00, 9.9999e-01, 9.9998e-01],\n",
              "        device='cuda:0', grad_fn=<ClampBackward1>))"
            ]
          },
          "execution_count": 30,
          "metadata": {},
          "output_type": "execute_result"
        }
      ],
      "source": [
        "device = 'cuda'\n",
        "\n",
        "imodel = GraphInterperterWithGumbelSoftmaxGamma(model.eval(), 4, temperature=0.2).to(device)\n",
        "optimizer = torch.optim.Adam([imodel.gammas], lr=0.01)\n",
        "loss_fn = torch.nn.CrossEntropyLoss()\n",
        "\n",
        "times_path = \"/content/drive/MyDrive/m1p/ResNet18HomeMeasurments.csv\"\n",
        "times = pd.read_csv(times_path, index_col=0)\n",
        "times = torch.tensor(times['mean'], dtype=torch.float32).cuda()\n",
        "times /= times.sum()\n",
        "lambd = 2.0\n",
        "print(imodel.gammas.sigmoid())\n",
        "\n",
        "validate(imodel, test_dl, device), imodel.sample_gammas()"
      ]
    },
    {
      "cell_type": "code",
      "execution_count": null,
      "id": "d93e6bd6-91fa-4179-ba05-902d299d40ae",
      "metadata": {
        "id": "d93e6bd6-91fa-4179-ba05-902d299d40ae",
        "outputId": "a0f81312-381e-47ec-d44c-abd44dd97ff2"
      },
      "outputs": [
        {
          "name": "stdout",
          "output_type": "stream",
          "text": [
            "torch.Size([64, 10]) torch.Size([64, 10])\n"
          ]
        }
      ],
      "source": [
        "### TEST\n",
        "with torch.no_grad():\n",
        "    x = torch.randn(64, 3, 32, 32).to(device)\n",
        "    print(model(x).shape, imodel(x).shape)\n",
        "    # assert (model(x) - imodel(x)).abs().mean().item() < 2"
      ]
    },
    {
      "cell_type": "code",
      "execution_count": null,
      "id": "Mfa-iuVOt1AD",
      "metadata": {
        "id": "Mfa-iuVOt1AD"
      },
      "outputs": [],
      "source": [
        "def discrete_copy(imodel):\n",
        "    result = GraphInterperterWithGumbelSoftmaxGamma(model.eval(), 4, temperature=0.2).to(device)\n",
        "    result.load_state_dict(imodel.state_dict())\n",
        "    result.make_gammas_discrete()\n",
        "    return result"
      ]
    },
    {
      "cell_type": "code",
      "execution_count": null,
      "id": "f78706cc",
      "metadata": {
        "colab": {
          "base_uri": "https://localhost:8080/"
        },
        "id": "f78706cc",
        "outputId": "593645cc-b56e-4101-f409-7db556654305"
      },
      "outputs": [
        {
          "name": "stdout",
          "output_type": "stream",
          "text": [
            "EPOCH 0:\n"
          ]
        },
        {
          "name": "stderr",
          "output_type": "stream",
          "text": [
            "training: 100%|██████████| 782/782 [00:21<00:00, 36.73it/s]\n",
            "validating: 157it [00:01, 112.91it/s]\n"
          ]
        },
        {
          "name": "stdout",
          "output_type": "stream",
          "text": [
            "LOSS train 0.6847191101152369 valid 0.37940705128205127\n",
            "impoved (0epoch): old: 0.0; new: 0.37940705128205127;\n",
            "EPOCH 1:\n"
          ]
        },
        {
          "name": "stderr",
          "output_type": "stream",
          "text": [
            "training: 100%|██████████| 782/782 [00:22<00:00, 34.99it/s]\n",
            "validating: 157it [00:01, 111.29it/s]\n"
          ]
        },
        {
          "name": "stdout",
          "output_type": "stream",
          "text": [
            "LOSS train 0.6827584827144686 valid 0.42197516025641024\n",
            "impoved (1epoch): old: 0.37940705128205127; new: 0.42197516025641024;\n",
            "EPOCH 2:\n"
          ]
        },
        {
          "name": "stderr",
          "output_type": "stream",
          "text": [
            "training: 100%|██████████| 782/782 [00:24<00:00, 32.03it/s]\n",
            "validating: 157it [00:01, 110.97it/s]\n"
          ]
        },
        {
          "name": "stdout",
          "output_type": "stream",
          "text": [
            "LOSS train 0.680937900128041 valid 0.4450120192307692\n",
            "impoved (2epoch): old: 0.42197516025641024; new: 0.4450120192307692;\n",
            "EPOCH 3:\n"
          ]
        },
        {
          "name": "stderr",
          "output_type": "stream",
          "text": [
            "training: 100%|██████████| 782/782 [00:21<00:00, 35.79it/s]\n",
            "validating: 157it [00:01, 80.85it/s]"
          ]
        },
        {
          "name": "stdout",
          "output_type": "stream",
          "text": [
            "LOSS train 0.68072783290653 valid 0.4016426282051282\n",
            "EPOCH 4:\n"
          ]
        },
        {
          "name": "stderr",
          "output_type": "stream",
          "text": [
            "\n",
            "training: 100%|██████████| 782/782 [00:21<00:00, 37.14it/s]\n",
            "validating: 157it [00:01, 116.98it/s]"
          ]
        },
        {
          "name": "stdout",
          "output_type": "stream",
          "text": [
            "LOSS train 0.6812780089628682 valid 0.34845753205128205\n",
            "EPOCH 5:\n"
          ]
        },
        {
          "name": "stderr",
          "output_type": "stream",
          "text": [
            "\n",
            "training: 100%|██████████| 782/782 [00:21<00:00, 36.41it/s]\n",
            "validating: 157it [00:01, 114.65it/s]"
          ]
        },
        {
          "name": "stdout",
          "output_type": "stream",
          "text": [
            "LOSS train 0.6814313913785744 valid 0.4296875\n",
            "EPOCH 6:\n"
          ]
        },
        {
          "name": "stderr",
          "output_type": "stream",
          "text": [
            "\n",
            "training: 100%|██████████| 782/782 [00:23<00:00, 33.99it/s]\n",
            "validating: 157it [00:01, 94.96it/s] "
          ]
        },
        {
          "name": "stdout",
          "output_type": "stream",
          "text": [
            "LOSS train 0.6823812191329797 valid 0.37840544871794873\n",
            "EPOCH 7:\n"
          ]
        },
        {
          "name": "stderr",
          "output_type": "stream",
          "text": [
            "\n",
            "training: 100%|██████████| 782/782 [00:24<00:00, 31.41it/s]\n",
            "validating: 157it [00:01, 91.24it/s] "
          ]
        },
        {
          "name": "stdout",
          "output_type": "stream",
          "text": [
            "LOSS train 0.6826534491037132 valid 0.4115584935897436\n",
            "EPOCH 8:\n"
          ]
        },
        {
          "name": "stderr",
          "output_type": "stream",
          "text": [
            "\n",
            "training: 100%|██████████| 782/782 [00:24<00:00, 31.64it/s]\n",
            "validating: 157it [00:01, 82.30it/s]"
          ]
        },
        {
          "name": "stdout",
          "output_type": "stream",
          "text": [
            "LOSS train 0.6824650554844217 valid 0.3957331730769231\n",
            "EPOCH 9:\n"
          ]
        },
        {
          "name": "stderr",
          "output_type": "stream",
          "text": [
            "\n",
            "training: 100%|██████████| 782/782 [00:27<00:00, 28.36it/s]\n",
            "validating: 157it [00:01, 99.23it/s] "
          ]
        },
        {
          "name": "stdout",
          "output_type": "stream",
          "text": [
            "LOSS train 0.6819202144686299 valid 0.425380608974359\n"
          ]
        },
        {
          "name": "stderr",
          "output_type": "stream",
          "text": [
            "\n"
          ]
        }
      ],
      "source": [
        "EPOCHS = 10\n",
        "\n",
        "best_acc = 0.0\n",
        "epoch_history = []\n",
        "val_accs = []\n",
        "\n",
        "\n",
        "for epoch in range(EPOCHS):\n",
        "    print(f'EPOCH {epoch}:')\n",
        "\n",
        "    imodel.train()\n",
        "\n",
        "    for i, (X, y) in tqdm(enumerate(train_dl), 'training', total=len(train_dl)):\n",
        "        if X.shape[0] != 64:\n",
        "            continue\n",
        "\n",
        "        optimizer.zero_grad()\n",
        "        y_pred = imodel(X.to(device))\n",
        "        loss = loss_fn(y_pred, y.to(device)) + lambd * imodel.sample_gammas().dot(times)\n",
        "        loss.backward()\n",
        "        optimizer.step()\n",
        "\n",
        "        epoch_history.append((y_pred.argmax(-1) == y.to(device)).float().mean().item())\n",
        "        \n",
        "    avg_loss = np.mean(epoch_history)\n",
        "\n",
        "    imodel.eval()\n",
        "\n",
        "    val_acc = validate(discrete_copy(imodel), test_dl, device)\n",
        "    val_accs.append(val_acc)\n",
        "    print('LOSS train {} valid {}'.format(avg_loss, val_acc))\n",
        "\n",
        "    # Track best performance, and save the model's state\n",
        "    if val_acc > best_acc:\n",
        "        print(f'impoved ({epoch}epoch): old: {best_acc}; new: {val_acc};')\n",
        "        best_acc = val_acc\n",
        "        model_path = f'/content/drive/MyDrive/m1p/pruned/model_{lambd}.ckpt'\n",
        "        torch.save(imodel.state_dict(), model_path)"
      ]
    },
    {
      "cell_type": "code",
      "execution_count": null,
      "id": "ukyQXCHP2lbj",
      "metadata": {
        "colab": {
          "base_uri": "https://localhost:8080/"
        },
        "id": "ukyQXCHP2lbj",
        "outputId": "641ce1a4-00d6-4154-df72-9ab6d237acee"
      },
      "outputs": [
        {
          "name": "stderr",
          "output_type": "stream",
          "text": [
            "100%|██████████| 7/7 [13:03<00:00, 111.93s/it]\n"
          ]
        }
      ],
      "source": [
        "EPOCHS = 5\n",
        "\n",
        "epoch_history = []\n",
        "val_accs = {}\n",
        "gammas = {}\n",
        "\n",
        "lambds = [0.0, 1.0, 2.0, 4.0, 6.0, 8.0, 10.0]\n",
        "\n",
        "for lambd in tqdm(lambds, total=len(lambds)):\n",
        "    val_accs[lambd] = []\n",
        "    gammas[lambd] = []\n",
        "    best_acc = 0.0\n",
        "\n",
        "    imodel = GraphInterperterWithGumbelSoftmaxGamma(model.eval(), 4, temperature=0.2).to(device)\n",
        "    optimizer = torch.optim.Adam([imodel.gammas], lr=0.02)\n",
        "\n",
        "    for epoch in range(EPOCHS):\n",
        "        imodel.train()\n",
        "\n",
        "        for i, (X, y) in enumerate(train_dl):\n",
        "            if X.shape[0] != 64:\n",
        "                continue\n",
        "\n",
        "            optimizer.zero_grad()\n",
        "            y_pred = imodel(X.to(device))\n",
        "            loss = loss_fn(y_pred, y.to(device)) + lambd * imodel.sample_gammas().dot(times)\n",
        "            loss.backward()\n",
        "            optimizer.step()\n",
        "\n",
        "            epoch_history.append((y_pred.argmax(-1) == y.to(device)).float().mean().item())\n",
        "            \n",
        "        avg_loss = np.mean(epoch_history)\n",
        "\n",
        "        imodel.eval()\n",
        "\n",
        "        # reduced to omit tqdm\n",
        "        # val_acc = validate(discrete_copy(imodel), test_dl, device)\n",
        "        dmodel = discrete_copy(imodel).to(device)\n",
        "        with torch.no_grad():\n",
        "            n_true = 0\n",
        "            n_tot = 0\n",
        "            for i, (X, y) in enumerate(test_dl):\n",
        "                if X.shape[0] != 64:\n",
        "                    continue\n",
        "                n_true += (dmodel(X.to(device)).argmax(-1) == y.to(device)).sum().item()\n",
        "                n_tot += 64\n",
        "            val_acc = n_true / n_tot\n",
        "        val_accs[lambd].append(val_acc)\n",
        "        gammas[lambd].append(dmodel.gammas)\n",
        "\n",
        "        # Track best performance, and save the model's state\n",
        "        if val_acc > best_acc:\n",
        "            best_acc = val_acc\n",
        "            model_path = f'/content/drive/MyDrive/m1p/pruned/model_{lambd}.ckpt'\n",
        "            torch.save(imodel.state_dict(), model_path)"
      ]
    },
    {
      "cell_type": "code",
      "execution_count": null,
      "id": "XILpVVBC4GsW",
      "metadata": {
        "colab": {
          "base_uri": "https://localhost:8080/",
          "height": 334
        },
        "id": "XILpVVBC4GsW",
        "outputId": "307578db-67ee-4bcd-c561-b7d06e03a219"
      },
      "outputs": [
        {
          "data": {
            "image/png": "[encoded data removed]",
            "text/plain": [
              "<Figure size 720x360 with 1 Axes>"
            ]
          },
          "metadata": {},
          "output_type": "display_data"
        }
      ],
      "source": [
        "plt.figure(figsize=(10,5))\n",
        "\n",
        "base_acc = 0.6464342948717948\n",
        "plt.plot([1, EPOCHS], [base_acc, base_acc], ls='--', label=\"base\")\n",
        "\n",
        "for lambd, accs in val_accs.items():\n",
        "    if 0 < lambd and lambd < 1:\n",
        "        continue\n",
        "    plt.plot(np.arange(EPOCHS)+1, accs, label=f\"$\\lambda={lambd}$\")\n",
        "\n",
        "plt.ylabel('Точность')\n",
        "plt.xlabel('Эпоха')\n",
        "\n",
        "plt.legend()\n",
        "plt.savefig('/content/drive/MyDrive/m1p/figs/learning_curve_for_lambdas.png', bbox_inches='tight')"
      ]
    },
    {
      "cell_type": "code",
      "execution_count": null,
      "id": "WuBwohqpnudb",
      "metadata": {
        "colab": {
          "base_uri": "https://localhost:8080/",
          "height": 334
        },
        "id": "WuBwohqpnudb",
        "outputId": "99d60f05-ea5d-49b1-b6a8-75e9a187e90c"
      },
      "outputs": [
        {
          "data": {
            "image/png": "[encoded data removed]",
            "text/plain": [
              "<Figure size 720x360 with 1 Axes>"
            ]
          },
          "metadata": {},
          "output_type": "display_data"
        }
      ],
      "source": [
        "plt.figure(figsize=(10,5))\n",
        "\n",
        "base = 1\n",
        "# plt.plot([1, EPOCHS], [base, base], ls='--', label=\"base\")\n",
        "\n",
        "for lambd, gamma_history in gammas.items():\n",
        "    if 0 < lambd and lambd < 1:\n",
        "        continue\n",
        "    params_fraction = [gamma.cpu().mean() for gamma in gamma_history]\n",
        "    plt.plot(np.arange(EPOCHS)+1, params_fraction, label=f\"$\\lambda={lambd}$\")\n",
        "\n",
        "plt.ylabel('Доля параметров')\n",
        "plt.xlabel('Эпоха')\n",
        "\n",
        "plt.legend()\n",
        "plt.savefig('/content/drive/MyDrive/m1p/figs/params_curve_for_lambdas.png', bbox_inches='tight')"
      ]
    },
    {
      "cell_type": "code",
      "execution_count": null,
      "id": "j3V0ZikGoN-R",
      "metadata": {
        "colab": {
          "base_uri": "https://localhost:8080/",
          "height": 334
        },
        "id": "j3V0ZikGoN-R",
        "outputId": "8c0eea67-a3dc-4adf-9c27-6cca835dfce6"
      },
      "outputs": [
        {
          "data": {
            "image/png": "[encoded data removed]",
            "text/plain": [
              "<Figure size 720x360 with 1 Axes>"
            ]
          },
          "metadata": {},
          "output_type": "display_data"
        }
      ],
      "source": [
        "plt.figure(figsize=(10,5))\n",
        "\n",
        "base = 1\n",
        "plt.plot([1, EPOCHS], [base, base], ls='--', label=\"base\")\n",
        "\n",
        "for lambd, gamma_history in gammas.items():\n",
        "    if 0 < lambd and lambd < 1:\n",
        "        continue\n",
        "    accel = [1 / gamma.dot(times).cpu() for gamma in gamma_history]\n",
        "    plt.plot(np.arange(EPOCHS)+1, accel, label=f\"$\\lambda={lambd}$\")\n",
        "\n",
        "plt.ylabel('Ускорение')\n",
        "plt.xlabel('Эпоха')\n",
        "\n",
        "plt.legend()\n",
        "plt.savefig('/content/drive/MyDrive/m1p/figs/acceleration_curve_for_lambdas.png', bbox_inches='tight')"
      ]
    },
    {
      "cell_type": "code",
      "execution_count": null,
      "id": "Y0FBZGf3Cwfv",
      "metadata": {
        "colab": {
          "base_uri": "https://localhost:8080/",
          "height": 336
        },
        "id": "Y0FBZGf3Cwfv",
        "outputId": "860f2a40-7c54-4ab2-e1f9-c78854f01080"
      },
      "outputs": [
        {
          "data": {
            "image/png": "[encoded data removed]",
            "text/plain": [
              "<Figure size 720x360 with 1 Axes>"
            ]
          },
          "metadata": {},
          "output_type": "display_data"
        }
      ],
      "source": [
        "plt.figure(figsize=(10,5))\n",
        "\n",
        "base_acc = 0.6464342948717948\n",
        "plt.plot([lambds[0], lambds[-1]], [base_acc, base_acc], ls='--', label=\"base\")\n",
        "\n",
        "final = [accs[-1] for _, accs in val_accs.items()]\n",
        "plt.plot(lambds, final, label=\"pruned\")\n",
        "\n",
        "# plt.xscale('log')\n",
        "plt.ylabel('Точность')\n",
        "plt.xlabel('$\\lambda$')\n",
        "\n",
        "plt.legend()\n",
        "plt.savefig('/content/drive/MyDrive/m1p/figs/accuracy_versus_lambda.png', bbox_inches='tight')"
      ]
    }
  ],
  "metadata": {
    "accelerator": "GPU",
    "colab": {
      "provenance": []
    },
    "gpuClass": "standard",
    "kernelspec": {
      "display_name": "Python 3 (ipykernel)",
      "language": "python",
      "name": "python3"
    },
    "language_info": {
      "codemirror_mode": {
        "name": "ipython",
        "version": 3
      },
      "file_extension": ".py",
      "mimetype": "text/x-python",
      "name": "python",
      "nbconvert_exporter": "python",
      "pygments_lexer": "ipython3",
      "version": "3.8.2"
    },
    "vscode": {
      "interpreter": {
        "hash": "1a1af0ee75eeea9e2e1ee996c87e7a2b11a0bebd85af04bb136d915cefc0abce"
      }
    },
    "widgets": {
      "application/vnd.jupyter.widget-state+json": {
        "1f019340ea9544a3ac12846fc4bc594e": {
          "model_module": "@jupyter-widgets/controls",
          "model_module_version": "1.5.0",
          "model_name": "ProgressStyleModel",
          "state": {
            "_model_module": "@jupyter-widgets/controls",
            "_model_module_version": "1.5.0",
            "_model_name": "ProgressStyleModel",
            "_view_count": null,
            "_view_module": "@jupyter-widgets/base",
            "_view_module_version": "1.2.0",
            "_view_name": "StyleView",
            "bar_color": null,
            "description_width": ""
          }
        },
        "38515415cd6c41e48649f95ec962b266": {
          "model_module": "@jupyter-widgets/controls",
          "model_module_version": "1.5.0",
          "model_name": "DescriptionStyleModel",
          "state": {
            "_model_module": "@jupyter-widgets/controls",
            "_model_module_version": "1.5.0",
            "_model_name": "DescriptionStyleModel",
            "_view_count": null,
            "_view_module": "@jupyter-widgets/base",
            "_view_module_version": "1.2.0",
            "_view_name": "StyleView",
            "description_width": ""
          }
        },
        "385f279bd98b435f9925e36e85608da9": {
          "model_module": "@jupyter-widgets/controls",
          "model_module_version": "1.5.0",
          "model_name": "HBoxModel",
          "state": {
            "_dom_classes": [],
            "_model_module": "@jupyter-widgets/controls",
            "_model_module_version": "1.5.0",
            "_model_name": "HBoxModel",
            "_view_count": null,
            "_view_module": "@jupyter-widgets/controls",
            "_view_module_version": "1.5.0",
            "_view_name": "HBoxView",
            "box_style": "",
            "children": [
              "IPY_MODEL_89877353b9e14965a6b3e2ac215d2218",
              "IPY_MODEL_71fa033d01824d118d10c53d9fab2cee",
              "IPY_MODEL_54207bb647404c5aa6102d6e4d3264e3"
            ],
            "layout": "IPY_MODEL_e37108513f174a43b77ad570e4e6ac57"
          }
        },
        "53971eeb160040d1933376353d91ba2e": {
          "model_module": "@jupyter-widgets/controls",
          "model_module_version": "1.5.0",
          "model_name": "HTMLModel",
          "state": {
            "_dom_classes": [],
            "_model_module": "@jupyter-widgets/controls",
            "_model_module_version": "1.5.0",
            "_model_name": "HTMLModel",
            "_view_count": null,
            "_view_module": "@jupyter-widgets/controls",
            "_view_module_version": "1.5.0",
            "_view_name": "HTMLView",
            "description": "",
            "description_tooltip": null,
            "layout": "IPY_MODEL_df80846421fb48da8c2d91e8e2962fa3",
            "placeholder": "​",
            "style": "IPY_MODEL_ccd6660c46614e639cd427f8b5bfa438",
            "value": "100%"
          }
        },
        "54207bb647404c5aa6102d6e4d3264e3": {
          "model_module": "@jupyter-widgets/controls",
          "model_module_version": "1.5.0",
          "model_name": "HTMLModel",
          "state": {
            "_dom_classes": [],
            "_model_module": "@jupyter-widgets/controls",
            "_model_module_version": "1.5.0",
            "_model_name": "HTMLModel",
            "_view_count": null,
            "_view_module": "@jupyter-widgets/controls",
            "_view_module_version": "1.5.0",
            "_view_name": "HTMLView",
            "description": "",
            "description_tooltip": null,
            "layout": "IPY_MODEL_7fec810e9ccb426ea61d282f5de220d4",
            "placeholder": "​",
            "style": "IPY_MODEL_38515415cd6c41e48649f95ec962b266",
            "value": " 170499072/? [00:13&lt;00:00, 14434445.09it/s]"
          }
        },
        "5db377147e85470db0e380e0c1f7487e": {
          "model_module": "@jupyter-widgets/controls",
          "model_module_version": "1.5.0",
          "model_name": "HBoxModel",
          "state": {
            "_dom_classes": [],
            "_model_module": "@jupyter-widgets/controls",
            "_model_module_version": "1.5.0",
            "_model_name": "HBoxModel",
            "_view_count": null,
            "_view_module": "@jupyter-widgets/controls",
            "_view_module_version": "1.5.0",
            "_view_name": "HBoxView",
            "box_style": "",
            "children": [
              "IPY_MODEL_53971eeb160040d1933376353d91ba2e",
              "IPY_MODEL_8c407d2af0d54ac6972d27352022b6a4",
              "IPY_MODEL_76a67a36b9834880a2ac19165e0e5ff6"
            ],
            "layout": "IPY_MODEL_8797651af5f946019646393da566a80e"
          }
        },
        "71fa033d01824d118d10c53d9fab2cee": {
          "model_module": "@jupyter-widgets/controls",
          "model_module_version": "1.5.0",
          "model_name": "FloatProgressModel",
          "state": {
            "_dom_classes": [],
            "_model_module": "@jupyter-widgets/controls",
            "_model_module_version": "1.5.0",
            "_model_name": "FloatProgressModel",
            "_view_count": null,
            "_view_module": "@jupyter-widgets/controls",
            "_view_module_version": "1.5.0",
            "_view_name": "ProgressView",
            "bar_style": "success",
            "description": "",
            "description_tooltip": null,
            "layout": "IPY_MODEL_9c833af21dba406dbf2cd4920b67c52d",
            "max": 170498071,
            "min": 0,
            "orientation": "horizontal",
            "style": "IPY_MODEL_d88bb7ea3b164ecbbce2a23bdb20f991",
            "value": 170498071
          }
        },
        "76a67a36b9834880a2ac19165e0e5ff6": {
          "model_module": "@jupyter-widgets/controls",
          "model_module_version": "1.5.0",
          "model_name": "HTMLModel",
          "state": {
            "_dom_classes": [],
            "_model_module": "@jupyter-widgets/controls",
            "_model_module_version": "1.5.0",
            "_model_name": "HTMLModel",
            "_view_count": null,
            "_view_module": "@jupyter-widgets/controls",
            "_view_module_version": "1.5.0",
            "_view_name": "HTMLView",
            "description": "",
            "description_tooltip": null,
            "layout": "IPY_MODEL_ff5ea1cf971c4768a46f930de4833a16",
            "placeholder": "​",
            "style": "IPY_MODEL_a1d28c697a8346448f1487038d5c7db4",
            "value": " 44.7M/44.7M [00:00&lt;00:00, 242MB/s]"
          }
        },
        "7fec810e9ccb426ea61d282f5de220d4": {
          "model_module": "@jupyter-widgets/base",
          "model_module_version": "1.2.0",
          "model_name": "LayoutModel",
          "state": {
            "_model_module": "@jupyter-widgets/base",
            "_model_module_version": "1.2.0",
            "_model_name": "LayoutModel",
            "_view_count": null,
            "_view_module": "@jupyter-widgets/base",
            "_view_module_version": "1.2.0",
            "_view_name": "LayoutView",
            "align_content": null,
            "align_items": null,
            "align_self": null,
            "border": null,
            "bottom": null,
            "display": null,
            "flex": null,
            "flex_flow": null,
            "grid_area": null,
            "grid_auto_columns": null,
            "grid_auto_flow": null,
            "grid_auto_rows": null,
            "grid_column": null,
            "grid_gap": null,
            "grid_row": null,
            "grid_template_areas": null,
            "grid_template_columns": null,
            "grid_template_rows": null,
            "height": null,
            "justify_content": null,
            "justify_items": null,
            "left": null,
            "margin": null,
            "max_height": null,
            "max_width": null,
            "min_height": null,
            "min_width": null,
            "object_fit": null,
            "object_position": null,
            "order": null,
            "overflow": null,
            "overflow_x": null,
            "overflow_y": null,
            "padding": null,
            "right": null,
            "top": null,
            "visibility": null,
            "width": null
          }
        },
        "8797651af5f946019646393da566a80e": {
          "model_module": "@jupyter-widgets/base",
          "model_module_version": "1.2.0",
          "model_name": "LayoutModel",
          "state": {
            "_model_module": "@jupyter-widgets/base",
            "_model_module_version": "1.2.0",
            "_model_name": "LayoutModel",
            "_view_count": null,
            "_view_module": "@jupyter-widgets/base",
            "_view_module_version": "1.2.0",
            "_view_name": "LayoutView",
            "align_content": null,
            "align_items": null,
            "align_self": null,
            "border": null,
            "bottom": null,
            "display": null,
            "flex": null,
            "flex_flow": null,
            "grid_area": null,
            "grid_auto_columns": null,
            "grid_auto_flow": null,
            "grid_auto_rows": null,
            "grid_column": null,
            "grid_gap": null,
            "grid_row": null,
            "grid_template_areas": null,
            "grid_template_columns": null,
            "grid_template_rows": null,
            "height": null,
            "justify_content": null,
            "justify_items": null,
            "left": null,
            "margin": null,
            "max_height": null,
            "max_width": null,
            "min_height": null,
            "min_width": null,
            "object_fit": null,
            "object_position": null,
            "order": null,
            "overflow": null,
            "overflow_x": null,
            "overflow_y": null,
            "padding": null,
            "right": null,
            "top": null,
            "visibility": null,
            "width": null
          }
        },
        "89877353b9e14965a6b3e2ac215d2218": {
          "model_module": "@jupyter-widgets/controls",
          "model_module_version": "1.5.0",
          "model_name": "HTMLModel",
          "state": {
            "_dom_classes": [],
            "_model_module": "@jupyter-widgets/controls",
            "_model_module_version": "1.5.0",
            "_model_name": "HTMLModel",
            "_view_count": null,
            "_view_module": "@jupyter-widgets/controls",
            "_view_module_version": "1.5.0",
            "_view_name": "HTMLView",
            "description": "",
            "description_tooltip": null,
            "layout": "IPY_MODEL_dd6f19eaf1e2412282defe89a66af82e",
            "placeholder": "​",
            "style": "IPY_MODEL_c24db525f7d64c5cab0351bc5a5abfff",
            "value": ""
          }
        },
        "8c407d2af0d54ac6972d27352022b6a4": {
          "model_module": "@jupyter-widgets/controls",
          "model_module_version": "1.5.0",
          "model_name": "FloatProgressModel",
          "state": {
            "_dom_classes": [],
            "_model_module": "@jupyter-widgets/controls",
            "_model_module_version": "1.5.0",
            "_model_name": "FloatProgressModel",
            "_view_count": null,
            "_view_module": "@jupyter-widgets/controls",
            "_view_module_version": "1.5.0",
            "_view_name": "ProgressView",
            "bar_style": "success",
            "description": "",
            "description_tooltip": null,
            "layout": "IPY_MODEL_d8a0795909d7475aae59383bd8bac6fb",
            "max": 46830571,
            "min": 0,
            "orientation": "horizontal",
            "style": "IPY_MODEL_1f019340ea9544a3ac12846fc4bc594e",
            "value": 46830571
          }
        },
        "9c833af21dba406dbf2cd4920b67c52d": {
          "model_module": "@jupyter-widgets/base",
          "model_module_version": "1.2.0",
          "model_name": "LayoutModel",
          "state": {
            "_model_module": "@jupyter-widgets/base",
            "_model_module_version": "1.2.0",
            "_model_name": "LayoutModel",
            "_view_count": null,
            "_view_module": "@jupyter-widgets/base",
            "_view_module_version": "1.2.0",
            "_view_name": "LayoutView",
            "align_content": null,
            "align_items": null,
            "align_self": null,
            "border": null,
            "bottom": null,
            "display": null,
            "flex": null,
            "flex_flow": null,
            "grid_area": null,
            "grid_auto_columns": null,
            "grid_auto_flow": null,
            "grid_auto_rows": null,
            "grid_column": null,
            "grid_gap": null,
            "grid_row": null,
            "grid_template_areas": null,
            "grid_template_columns": null,
            "grid_template_rows": null,
            "height": null,
            "justify_content": null,
            "justify_items": null,
            "left": null,
            "margin": null,
            "max_height": null,
            "max_width": null,
            "min_height": null,
            "min_width": null,
            "object_fit": null,
            "object_position": null,
            "order": null,
            "overflow": null,
            "overflow_x": null,
            "overflow_y": null,
            "padding": null,
            "right": null,
            "top": null,
            "visibility": null,
            "width": null
          }
        },
        "a1d28c697a8346448f1487038d5c7db4": {
          "model_module": "@jupyter-widgets/controls",
          "model_module_version": "1.5.0",
          "model_name": "DescriptionStyleModel",
          "state": {
            "_model_module": "@jupyter-widgets/controls",
            "_model_module_version": "1.5.0",
            "_model_name": "DescriptionStyleModel",
            "_view_count": null,
            "_view_module": "@jupyter-widgets/base",
            "_view_module_version": "1.2.0",
            "_view_name": "StyleView",
            "description_width": ""
          }
        },
        "c24db525f7d64c5cab0351bc5a5abfff": {
          "model_module": "@jupyter-widgets/controls",
          "model_module_version": "1.5.0",
          "model_name": "DescriptionStyleModel",
          "state": {
            "_model_module": "@jupyter-widgets/controls",
            "_model_module_version": "1.5.0",
            "_model_name": "DescriptionStyleModel",
            "_view_count": null,
            "_view_module": "@jupyter-widgets/base",
            "_view_module_version": "1.2.0",
            "_view_name": "StyleView",
            "description_width": ""
          }
        },
        "ccd6660c46614e639cd427f8b5bfa438": {
          "model_module": "@jupyter-widgets/controls",
          "model_module_version": "1.5.0",
          "model_name": "DescriptionStyleModel",
          "state": {
            "_model_module": "@jupyter-widgets/controls",
            "_model_module_version": "1.5.0",
            "_model_name": "DescriptionStyleModel",
            "_view_count": null,
            "_view_module": "@jupyter-widgets/base",
            "_view_module_version": "1.2.0",
            "_view_name": "StyleView",
            "description_width": ""
          }
        },
        "d88bb7ea3b164ecbbce2a23bdb20f991": {
          "model_module": "@jupyter-widgets/controls",
          "model_module_version": "1.5.0",
          "model_name": "ProgressStyleModel",
          "state": {
            "_model_module": "@jupyter-widgets/controls",
            "_model_module_version": "1.5.0",
            "_model_name": "ProgressStyleModel",
            "_view_count": null,
            "_view_module": "@jupyter-widgets/base",
            "_view_module_version": "1.2.0",
            "_view_name": "StyleView",
            "bar_color": null,
            "description_width": ""
          }
        },
        "d8a0795909d7475aae59383bd8bac6fb": {
          "model_module": "@jupyter-widgets/base",
          "model_module_version": "1.2.0",
          "model_name": "LayoutModel",
          "state": {
            "_model_module": "@jupyter-widgets/base",
            "_model_module_version": "1.2.0",
            "_model_name": "LayoutModel",
            "_view_count": null,
            "_view_module": "@jupyter-widgets/base",
            "_view_module_version": "1.2.0",
            "_view_name": "LayoutView",
            "align_content": null,
            "align_items": null,
            "align_self": null,
            "border": null,
            "bottom": null,
            "display": null,
            "flex": null,
            "flex_flow": null,
            "grid_area": null,
            "grid_auto_columns": null,
            "grid_auto_flow": null,
            "grid_auto_rows": null,
            "grid_column": null,
            "grid_gap": null,
            "grid_row": null,
            "grid_template_areas": null,
            "grid_template_columns": null,
            "grid_template_rows": null,
            "height": null,
            "justify_content": null,
            "justify_items": null,
            "left": null,
            "margin": null,
            "max_height": null,
            "max_width": null,
            "min_height": null,
            "min_width": null,
            "object_fit": null,
            "object_position": null,
            "order": null,
            "overflow": null,
            "overflow_x": null,
            "overflow_y": null,
            "padding": null,
            "right": null,
            "top": null,
            "visibility": null,
            "width": null
          }
        },
        "dd6f19eaf1e2412282defe89a66af82e": {
          "model_module": "@jupyter-widgets/base",
          "model_module_version": "1.2.0",
          "model_name": "LayoutModel",
          "state": {
            "_model_module": "@jupyter-widgets/base",
            "_model_module_version": "1.2.0",
            "_model_name": "LayoutModel",
            "_view_count": null,
            "_view_module": "@jupyter-widgets/base",
            "_view_module_version": "1.2.0",
            "_view_name": "LayoutView",
            "align_content": null,
            "align_items": null,
            "align_self": null,
            "border": null,
            "bottom": null,
            "display": null,
            "flex": null,
            "flex_flow": null,
            "grid_area": null,
            "grid_auto_columns": null,
            "grid_auto_flow": null,
            "grid_auto_rows": null,
            "grid_column": null,
            "grid_gap": null,
            "grid_row": null,
            "grid_template_areas": null,
            "grid_template_columns": null,
            "grid_template_rows": null,
            "height": null,
            "justify_content": null,
            "justify_items": null,
            "left": null,
            "margin": null,
            "max_height": null,
            "max_width": null,
            "min_height": null,
            "min_width": null,
            "object_fit": null,
            "object_position": null,
            "order": null,
            "overflow": null,
            "overflow_x": null,
            "overflow_y": null,
            "padding": null,
            "right": null,
            "top": null,
            "visibility": null,
            "width": null
          }
        },
        "df80846421fb48da8c2d91e8e2962fa3": {
          "model_module": "@jupyter-widgets/base",
          "model_module_version": "1.2.0",
          "model_name": "LayoutModel",
          "state": {
            "_model_module": "@jupyter-widgets/base",
            "_model_module_version": "1.2.0",
            "_model_name": "LayoutModel",
            "_view_count": null,
            "_view_module": "@jupyter-widgets/base",
            "_view_module_version": "1.2.0",
            "_view_name": "LayoutView",
            "align_content": null,
            "align_items": null,
            "align_self": null,
            "border": null,
            "bottom": null,
            "display": null,
            "flex": null,
            "flex_flow": null,
            "grid_area": null,
            "grid_auto_columns": null,
            "grid_auto_flow": null,
            "grid_auto_rows": null,
            "grid_column": null,
            "grid_gap": null,
            "grid_row": null,
            "grid_template_areas": null,
            "grid_template_columns": null,
            "grid_template_rows": null,
            "height": null,
            "justify_content": null,
            "justify_items": null,
            "left": null,
            "margin": null,
            "max_height": null,
            "max_width": null,
            "min_height": null,
            "min_width": null,
            "object_fit": null,
            "object_position": null,
            "order": null,
            "overflow": null,
            "overflow_x": null,
            "overflow_y": null,
            "padding": null,
            "right": null,
            "top": null,
            "visibility": null,
            "width": null
          }
        },
        "e37108513f174a43b77ad570e4e6ac57": {
          "model_module": "@jupyter-widgets/base",
          "model_module_version": "1.2.0",
          "model_name": "LayoutModel",
          "state": {
            "_model_module": "@jupyter-widgets/base",
            "_model_module_version": "1.2.0",
            "_model_name": "LayoutModel",
            "_view_count": null,
            "_view_module": "@jupyter-widgets/base",
            "_view_module_version": "1.2.0",
            "_view_name": "LayoutView",
            "align_content": null,
            "align_items": null,
            "align_self": null,
            "border": null,
            "bottom": null,
            "display": null,
            "flex": null,
            "flex_flow": null,
            "grid_area": null,
            "grid_auto_columns": null,
            "grid_auto_flow": null,
            "grid_auto_rows": null,
            "grid_column": null,
            "grid_gap": null,
            "grid_row": null,
            "grid_template_areas": null,
            "grid_template_columns": null,
            "grid_template_rows": null,
            "height": null,
            "justify_content": null,
            "justify_items": null,
            "left": null,
            "margin": null,
            "max_height": null,
            "max_width": null,
            "min_height": null,
            "min_width": null,
            "object_fit": null,
            "object_position": null,
            "order": null,
            "overflow": null,
            "overflow_x": null,
            "overflow_y": null,
            "padding": null,
            "right": null,
            "top": null,
            "visibility": null,
            "width": null
          }
        },
        "ff5ea1cf971c4768a46f930de4833a16": {
          "model_module": "@jupyter-widgets/base",
          "model_module_version": "1.2.0",
          "model_name": "LayoutModel",
          "state": {
            "_model_module": "@jupyter-widgets/base",
            "_model_module_version": "1.2.0",
            "_model_name": "LayoutModel",
            "_view_count": null,
            "_view_module": "@jupyter-widgets/base",
            "_view_module_version": "1.2.0",
            "_view_name": "LayoutView",
            "align_content": null,
            "align_items": null,
            "align_self": null,
            "border": null,
            "bottom": null,
            "display": null,
            "flex": null,
            "flex_flow": null,
            "grid_area": null,
            "grid_auto_columns": null,
            "grid_auto_flow": null,
            "grid_auto_rows": null,
            "grid_column": null,
            "grid_gap": null,
            "grid_row": null,
            "grid_template_areas": null,
            "grid_template_columns": null,
            "grid_template_rows": null,
            "height": null,
            "justify_content": null,
            "justify_items": null,
            "left": null,
            "margin": null,
            "max_height": null,
            "max_width": null,
            "min_height": null,
            "min_width": null,
            "object_fit": null,
            "object_position": null,
            "order": null,
            "overflow": null,
            "overflow_x": null,
            "overflow_y": null,
            "padding": null,
            "right": null,
            "top": null,
            "visibility": null,
            "width": null
          }
        }
      }
    }
  },
  "nbformat": 4,
  "nbformat_minor": 5
}
