{
  "cells": [
    {
      "attachments": {},
      "cell_type": "markdown",
      "id": "66696269",
      "metadata": {},
      "source": [
        "`model`: https://drive.google.com/drive/folders/1zqSudSICI97fWn3xCrEHsDjTQAzEFoAN?usp=share_link\n",
        "\n",
        "`times`: https://drive.google.com/drive/folders/1vWyhUAzjjrVNk5Jmwz7uZaoa6mnDASIE?usp=share_link"
      ]
    },
    {
      "cell_type": "code",
      "execution_count": 1,
      "id": "6ea715b3",
      "metadata": {
        "id": "6ea715b3"
      },
      "outputs": [],
      "source": [
        "device = 'cuda'"
      ]
    },
    {
      "cell_type": "code",
      "execution_count": 2,
      "id": "d764c98d",
      "metadata": {
        "colab": {
          "base_uri": "https://localhost:8080/"
        },
        "id": "d764c98d",
        "outputId": "4ebc0e6d-8453-4ab5-a968-cf8a992c097b"
      },
      "outputs": [
        {
          "name": "stdout",
          "output_type": "stream",
          "text": [
            "Mounted at /content/drive\n"
          ]
        }
      ],
      "source": [
        "import warnings\n",
        "warnings.filterwarnings(\"ignore\")\n",
        "\n",
        "try:\n",
        "    from google.colab import drive\n",
        "    drive.mount('/content/drive')\n",
        "    DRIVE_PREFIX = '/content/drive/MyDrive/m1p'\n",
        "\n",
        "    IN_COLAB = True\n",
        "except:\n",
        "    IN_COLAB = False"
      ]
    },
    {
      "cell_type": "code",
      "execution_count": 110,
      "id": "dc9da0d7",
      "metadata": {
        "id": "dc9da0d7"
      },
      "outputs": [],
      "source": [
        "if IN_COLAB:\n",
        "    prefix = DRIVE_PREFIX\n",
        "else:\n",
        "    prefix = '.'\n",
        "    \n",
        "figures = f'{prefix}/figs/v2/basic'\n",
        "model_path = f'{prefix}/pretrained/model_23.ckpt'\n",
        "times_path = f'{prefix}/time_measurements/ResNet18HomeMeasurements.csv'"
      ]
    },
    {
      "cell_type": "code",
      "execution_count": 4,
      "id": "d92dbd27",
      "metadata": {
        "id": "d92dbd27"
      },
      "outputs": [],
      "source": [
        "if IN_COLAB:\n",
        "    ! git clone -qq https://github.com/intsystems/2023-Problem-140.git\n",
        "    import sys\n",
        "    sys.path.append('2023-Problem-140/code')"
      ]
    },
    {
      "cell_type": "code",
      "execution_count": 5,
      "id": "6d034c3d",
      "metadata": {
        "id": "6d034c3d"
      },
      "outputs": [],
      "source": [
        "from tqdm import tqdm\n",
        "from typing import Dict\n",
        "import time\n",
        "\n",
        "import torch\n",
        "import torch.fx\n",
        "from torch.fx.node import Node\n",
        "\n",
        "import numpy as np \n",
        "import pandas as pd\n",
        "import matplotlib as mpl\n",
        "import matplotlib.pyplot as plt\n",
        "import seaborn as sns\n",
        "mpl.style.use('seaborn')\n",
        "\n",
        "from src.resnet18 import ResNet18\n",
        "from src.module2graph import GraphInterperterWithGamma\n",
        "from src.cifar_data import get_dataloaders"
      ]
    },
    {
      "cell_type": "code",
      "execution_count": 6,
      "id": "86333e9a-0ec1-4323-9de3-bb15c6efedce",
      "metadata": {
        "id": "86333e9a-0ec1-4323-9de3-bb15c6efedce"
      },
      "outputs": [],
      "source": [
        "class GraphInterperterWithGumbelSoftmaxGamma(GraphInterperterWithGamma):\n",
        "    def __init__(self, mod, gamma_shift=0.0, temperature=1.0):\n",
        "        self.gamma_shift = gamma_shift\n",
        "        self.temperature = temperature\n",
        "        super().__init__(mod)\n",
        "\n",
        "    def init_gammas(self):\n",
        "        i = 0\n",
        "        gammas = []\n",
        "        self.gammas_name = {}\n",
        "        for node in self.graph.nodes:\n",
        "            if node.op == 'call_module':\n",
        "                gammas.append(np.random.randn()+self.gamma_shift)\n",
        "                self.gammas_name[str(node)] = i# перевод в str тут для удобства. в реалньых методах это не нужно\n",
        "                i+=1                        # да и вообще, тут по идее должен быть тензор/параметр\n",
        "        self.gammas =  torch.nn.Parameter(torch.as_tensor(gammas), requires_grad = True)\n",
        "        self.discrete = False \n",
        "\n",
        "    def sample_gammas(self, previous=False):\n",
        "        if self.discrete:\n",
        "            return self.gammas\n",
        "\n",
        "        if not previous:\n",
        "            d = torch.distributions.RelaxedBernoulli(logits=self.gammas, temperature=self.temperature)\n",
        "            self.last_sample = d.rsample()\n",
        "\n",
        "        return self.last_sample\n",
        "        \n",
        "    def make_gammas_discrete(self):\n",
        "        self.gammas.data = (self.gammas.data>=0) * 1.0\n",
        "        self.gammas.requires_grad = False \n",
        "        self.discrete = True"
      ]
    },
    {
      "cell_type": "markdown",
      "id": "9b90ba9f",
      "metadata": {
        "id": "9b90ba9f"
      },
      "source": [
        "Получим претрейн на n эпох"
      ]
    },
    {
      "cell_type": "code",
      "execution_count": 7,
      "id": "02edb62a",
      "metadata": {
        "colab": {
          "base_uri": "https://localhost:8080/",
          "height": 173,
          "referenced_widgets": [
            "4eeb9fdaebb94e429ec7ada390ded43b",
            "477e89bc639647ee9bdfbe701cd52a86",
            "de585ed8ecb94694b871cf08eeb72819",
            "6d6f3ed5cc824323b8688e74ced0945a",
            "3159db1eaf5f406a905a217aa5a6907c",
            "c4d3b4abc6ca4791afc5d6c1be0ffe7e",
            "75794795350742a5812a872077dc85b2",
            "a9d2f4ce105b40238c47fe634754c29b",
            "61a6380fd8e644418de4bf103eb5d777",
            "f83fa821b3a0491db839e1a3fdb5349c",
            "ddbebefad5c4490a99c903791ed19f10",
            "7054800060944bbfaf760e15c2a113b4",
            "1777ab7afd064413b3d0a449198d7b59",
            "a0dad4f2c69a4731a615138c1000a22a",
            "8072241fca9044938fd27658b8655669",
            "88ae3c8952384fe6b3069819997b7b28",
            "d27be3bc21d74ffe9379f57bd3cac23c",
            "b548e7145ba04ca7a31f2c2d49f28b1d",
            "e7ba6ec2d39e4a09bdb0b2b4a5defb72",
            "0c0983d200bb448d92508d120eb062a5",
            "c8ac51ae1844428cbc8b28a21ddcbeab",
            "8ea8c87efb144e1cae93af0a0298b1a5"
          ]
        },
        "id": "02edb62a",
        "outputId": "a805d259-8fe6-42d2-85d2-e6470a54cf07"
      },
      "outputs": [
        {
          "name": "stderr",
          "output_type": "stream",
          "text": [
            "Downloading: \"https://github.com/pytorch/vision/zipball/v0.10.0\" to /root/.cache/torch/hub/v0.10.0.zip\n",
            "Downloading: \"https://download.pytorch.org/models/resnet18-f37072fd.pth\" to /root/.cache/torch/hub/checkpoints/resnet18-f37072fd.pth\n"
          ]
        },
        {
          "data": {
            "application/vnd.jupyter.widget-view+json": {
              "model_id": "4eeb9fdaebb94e429ec7ada390ded43b",
              "version_major": 2,
              "version_minor": 0
            },
            "text/plain": [
              "  0%|          | 0.00/44.7M [00:00<?, ?B/s]"
            ]
          },
          "metadata": {},
          "output_type": "display_data"
        },
        {
          "name": "stdout",
          "output_type": "stream",
          "text": [
            "Downloading https://www.cs.toronto.edu/~kriz/cifar-10-python.tar.gz to ./data/cifar-10-python.tar.gz\n"
          ]
        },
        {
          "data": {
            "application/vnd.jupyter.widget-view+json": {
              "model_id": "7054800060944bbfaf760e15c2a113b4",
              "version_major": 2,
              "version_minor": 0
            },
            "text/plain": [
              "  0%|          | 0/170498071 [00:00<?, ?it/s]"
            ]
          },
          "metadata": {},
          "output_type": "display_data"
        },
        {
          "name": "stdout",
          "output_type": "stream",
          "text": [
            "Extracting ./data/cifar-10-python.tar.gz to ./data\n",
            "Files already downloaded and verified\n"
          ]
        }
      ],
      "source": [
        "model = ResNet18(num_classes=10).to(device)\n",
        "model.load_state_dict(torch.load(model_path))\n",
        "\n",
        "train_dl, test_dl = get_dataloaders(classes=range(10), batch_size=64, img_size=33)"
      ]
    },
    {
      "cell_type": "code",
      "execution_count": 8,
      "id": "f8f4cc70-5acb-495b-868e-e00d2b93d305",
      "metadata": {
        "id": "f8f4cc70-5acb-495b-868e-e00d2b93d305"
      },
      "outputs": [],
      "source": [
        "loss_fn = torch.nn.CrossEntropyLoss()\n",
        "\n",
        "ACC, LOSS, LAT = {'accuracy'}, {'loss'}, {'latency'}\n",
        "ALL = ACC | LOSS | LAT\n",
        "\n",
        "@torch.no_grad()\n",
        "def validate(model, dataloader, device, getters: set=ALL):\n",
        "    n_true, n_tot = 0, 0\n",
        "    loss, latency = 0, 0\n",
        "\n",
        "    for i, (X, y) in enumerate(dataloader):\n",
        "        if X.shape[0] != 64:\n",
        "            continue\n",
        "\n",
        "        y_pred = model(X.to(device))\n",
        "\n",
        "        n_tot += 64\n",
        "\n",
        "        if 'accuracy' in getters:\n",
        "            n_true += (y_pred.argmax(-1) == y.to(device)).sum().item()\n",
        "        if 'loss' in getters:\n",
        "            loss += loss_fn(y_pred, y.to(device)).item() * 64\n",
        "        if 'latency' in getters:\n",
        "            latency += model.sample_gammas(previous=True).dot(times).item() * 64\n",
        "\n",
        "    return n_true / n_tot, loss / n_tot, latency / n_tot"
      ]
    },
    {
      "cell_type": "code",
      "execution_count": 9,
      "id": "cb75b59a-e807-4ac7-b452-09344836505e",
      "metadata": {
        "colab": {
          "base_uri": "https://localhost:8080/"
        },
        "id": "cb75b59a-e807-4ac7-b452-09344836505e",
        "outputId": "2eda9c31-50d0-4c95-dc0b-a88cd3416c4c"
      },
      "outputs": [
        {
          "data": {
            "text/plain": [
              "(0.6464342948717948, 1.3685274429810352)"
            ]
          },
          "execution_count": 9,
          "metadata": {},
          "output_type": "execute_result"
        }
      ],
      "source": [
        "base_acc, base_loss, _ = validate(model, test_dl, 'cuda', ACC | LOSS)\n",
        "base_acc, base_loss"
      ]
    },
    {
      "cell_type": "code",
      "execution_count": 10,
      "id": "4b00a078",
      "metadata": {
        "id": "4b00a078"
      },
      "outputs": [],
      "source": [
        "times = pd.read_csv(times_path, index_col=0)\n",
        "times = torch.tensor(times['mean'], dtype=torch.float32).cuda()\n",
        "times /= times.sum()"
      ]
    },
    {
      "cell_type": "code",
      "execution_count": 11,
      "id": "c7dc03b2",
      "metadata": {
        "id": "c7dc03b2"
      },
      "outputs": [],
      "source": [
        "def train_epoch(imodel, optimizer, lambd, dl=train_dl):\n",
        "    for i, (X, y) in enumerate(dl):\n",
        "        if X.shape[0] != 64:\n",
        "            continue\n",
        "\n",
        "        optimizer.zero_grad()\n",
        "\n",
        "        y_pred = imodel(X.to(device))\n",
        "        loss = loss_fn(y_pred, y.to(device)) + lambd * imodel.sample_gammas().dot(times)\n",
        "        loss.backward()\n",
        "\n",
        "        optimizer.step()"
      ]
    },
    {
      "cell_type": "code",
      "execution_count": 12,
      "id": "ukyQXCHP2lbj",
      "metadata": {
        "colab": {
          "base_uri": "https://localhost:8080/"
        },
        "id": "ukyQXCHP2lbj",
        "outputId": "63716c91-6665-4130-9e17-629bf0cf4c49"
      },
      "outputs": [
        {
          "name": "stderr",
          "output_type": "stream",
          "text": [
            "100%|██████████| 10/10 [18:22<00:00, 110.22s/it]\n"
          ]
        }
      ],
      "source": [
        "EPOCHS = 5\n",
        "\n",
        "lambda_report = {}\n",
        "imodels = {}\n",
        "\n",
        "lambds = [*range(10)]\n",
        "\n",
        "imodel = GraphInterperterWithGumbelSoftmaxGamma(model.eval(), 4, temperature=0.2).to(device)\n",
        "\n",
        "init_gammas = imodel.gammas\n",
        "\n",
        "discrete_imodel = GraphInterperterWithGumbelSoftmaxGamma(model.eval()).to(device)\n",
        "\n",
        "for lambd in tqdm(lambds, total=len(lambds)):\n",
        "    imodel.gammas = init_gammas\n",
        "    optimizer = torch.optim.Adam([imodel.gammas], lr=0.05)\n",
        "\n",
        "    for epoch in range(EPOCHS):\n",
        "        imodel.train()\n",
        "\n",
        "        train_epoch(imodel, optimizer, lambd)\n",
        "\n",
        "        imodel.eval()\n",
        "\n",
        "        lambda_report.setdefault(f'{lambd}', {})\n",
        "\n",
        "        acc, _, lat = validate(imodel, test_dl, device, ACC | LAT)        \n",
        "        \n",
        "        lambda_report[f'{lambd}'].setdefault('acc_rel', []).append(acc)\n",
        "        lambda_report[f'{lambd}'].setdefault('lat_rel', []).append(lat)\n",
        "\n",
        "\n",
        "        discrete_imodel.gammas.data = imodel.gammas.data\n",
        "        discrete_imodel.make_gammas_discrete()        \n",
        "        \n",
        "        acc, _, lat = validate(discrete_imodel, test_dl, device, ACC | LAT)\n",
        "\n",
        "        lambda_report[f'{lambd}'].setdefault('acc_dis', []).append(acc)\n",
        "        lambda_report[f'{lambd}'].setdefault('lat_dis', []).append(lat)\n",
        "\n",
        "    imodels[lambd] = imodel"
      ]
    },
    {
      "cell_type": "code",
      "execution_count": 117,
      "id": "560cba6b",
      "metadata": {
        "colab": {
          "base_uri": "https://localhost:8080/",
          "height": 390
        },
        "id": "560cba6b",
        "outputId": "66ea2c99-2ae6-4379-9308-1d2443fab1f1"
      },
      "outputs": [
        {
          "data": {
            "image/png": "[encoded data removed]",
            "text/plain": [
              "<Figure size 1152x432 with 8 Axes>"
            ]
          },
          "metadata": {},
          "output_type": "display_data"
        }
      ],
      "source": [
        "w = 4\n",
        "fig, axs = plt.subplots(2, w, figsize=(w*4, 6))\n",
        "\n",
        "for i, key in enumerate(lambda_report):\n",
        "    if i == 8:\n",
        "        break\n",
        "    axs[i//w][i%w].set_title(rf\"$\\lambda={key}$\")\n",
        "    axs[i//w][i%w].plot([base_acc]*EPOCHS, label='base', ls=':')\n",
        "    axs[i//w][i%w].plot(lambda_report[key]['acc_rel'], label='acc')\n",
        "    axs[i//w][i%w].plot(lambda_report[key]['lat_rel'], label='lat')\n",
        "    axs[i//w][i%w].legend()\n",
        "    axs[i//w][i%w].set_ylim(-0.05, 1.05)\n",
        "\n",
        "\n",
        "plt.savefig(f'{figures}/convergence.png', bbox_inches='tight')"
      ]
    },
    {
      "cell_type": "code",
      "execution_count": 79,
      "id": "bZVDZiE38Vg8",
      "metadata": {
        "id": "bZVDZiE38Vg8"
      },
      "outputs": [],
      "source": [
        "accs = [r['acc_dis'][-1] for l, r in lambda_report.items()][:-2]\n",
        "lats = [r['lat_dis'][-1] for l, r in lambda_report.items()][:-2]"
      ]
    },
    {
      "cell_type": "code",
      "execution_count": 116,
      "id": "DH-6Bp4I9cXm",
      "metadata": {
        "colab": {
          "base_uri": "https://localhost:8080/",
          "height": 227
        },
        "id": "DH-6Bp4I9cXm",
        "outputId": "725e2f6d-f330-4c38-a4a8-69255166ed32"
      },
      "outputs": [
        {
          "data": {
            "image/png": "[encoded data removed]",
            "text/plain": [
              "<Figure size 288x216 with 1 Axes>"
            ]
          },
          "metadata": {},
          "output_type": "display_data"
        }
      ],
      "source": [
        "plt.figure(figsize=(4,3))\n",
        "\n",
        "plt.plot(accs, label='acc')\n",
        "plt.plot(lats, label='lat')\n",
        "\n",
        "plt.xlabel('$\\lambda$')\n",
        "\n",
        "plt.legend()\n",
        "\n",
        "plt.savefig(f'{figures}/acc&lat_vs_lambda.png', bbox_inches='tight')"
      ]
    },
    {
      "cell_type": "code",
      "execution_count": 81,
      "id": "kJe0XLbJ_AH9",
      "metadata": {
        "colab": {
          "base_uri": "https://localhost:8080/"
        },
        "id": "kJe0XLbJ_AH9",
        "outputId": "5e60bb99-65f1-4656-cc10-9a9914c72a37"
      },
      "outputs": [
        {
          "name": "stderr",
          "output_type": "stream",
          "text": [
            "100%|██████████| 1000/1000 [27:58<00:00,  1.68s/it]\n"
          ]
        }
      ],
      "source": [
        "N_RANDOM = 1000\n",
        "\n",
        "random_accs = []\n",
        "random_lats = []\n",
        "\n",
        "gammas_prob = torch.tensor([0.5]*60).to(device)\n",
        "\n",
        "for i in tqdm(range(N_RANDOM), total=N_RANDOM):\n",
        "    discrete_imodel.gammas.data = torch.bernoulli(gammas_prob)\n",
        "    acc, _, lat = validate(discrete_imodel, test_dl, device, ACC | LAT)\n",
        "\n",
        "    random_accs.append(acc)\n",
        "    random_lats.append(lat)"
      ]
    },
    {
      "cell_type": "code",
      "execution_count": 121,
      "id": "OmKbEUmY82eq",
      "metadata": {
        "colab": {
          "base_uri": "https://localhost:8080/",
          "height": 283
        },
        "id": "OmKbEUmY82eq",
        "outputId": "dbfa65d6-094d-41ea-9946-0d9402817823"
      },
      "outputs": [
        {
          "data": {
            "image/png": "[encoded data removed]",
            "text/plain": [
              "<Figure size 360x288 with 1 Axes>"
            ]
          },
          "metadata": {},
          "output_type": "display_data"
        }
      ],
      "source": [
        "plt.figure(figsize=(5,4))\n",
        "\n",
        "plt.scatter(lats, accs, label='optimized')\n",
        "plt.plot(lats, accs)\n",
        "\n",
        "plt.scatter(random_lats, random_accs, label='random', alpha=0.5)\n",
        "\n",
        "for i, (lat, acc) in enumerate(zip(lats, accs)):\n",
        "    if i == 6:\n",
        "        break\n",
        "    plt.text(lat-0.01, acc-0.06, rf'$\\lambda={i}$')\n",
        "\n",
        "plt.xlabel('latency')\n",
        "plt.ylabel('accuracy')\n",
        "\n",
        "plt.xlim((0,1))\n",
        "plt.ylim((0,0.8))\n",
        "\n",
        "plt.legend()\n",
        "\n",
        "plt.savefig(f'{figures}/acc_vs_lat.png', bbox_inches='tight')"
      ]
    },
    {
      "cell_type": "code",
      "execution_count": 83,
      "id": "CZ3KWMWLK_wA",
      "metadata": {
        "colab": {
          "base_uri": "https://localhost:8080/"
        },
        "id": "CZ3KWMWLK_wA",
        "outputId": "9ee964dc-a26a-4344-8f35-4e7be0bf9482"
      },
      "outputs": [
        {
          "name": "stdout",
          "output_type": "stream",
          "text": [
            "Looking in indexes: https://pypi.org/simple, https://us-python.pkg.dev/colab-wheels/public/simple/\n",
            "Requirement already satisfied: torcheval in /usr/local/lib/python3.9/dist-packages (0.0.6)\n",
            "Requirement already satisfied: typing-extensions in /usr/local/lib/python3.9/dist-packages (from torcheval) (4.5.0)\n",
            "Requirement already satisfied: torchtnt>=0.0.5 in /usr/local/lib/python3.9/dist-packages (from torcheval) (0.0.7)\n",
            "Requirement already satisfied: tensorboard in /usr/local/lib/python3.9/dist-packages (from torchtnt>=0.0.5->torcheval) (2.11.2)\n",
            "Requirement already satisfied: psutil in /usr/local/lib/python3.9/dist-packages (from torchtnt>=0.0.5->torcheval) (5.9.4)\n",
            "Requirement already satisfied: setuptools in /usr/local/lib/python3.9/dist-packages (from torchtnt>=0.0.5->torcheval) (67.6.0)\n",
            "Requirement already satisfied: packaging in /usr/local/lib/python3.9/dist-packages (from torchtnt>=0.0.5->torcheval) (23.0)\n",
            "Requirement already satisfied: numpy in /usr/local/lib/python3.9/dist-packages (from torchtnt>=0.0.5->torcheval) (1.22.4)\n",
            "Requirement already satisfied: pyre-extensions in /usr/local/lib/python3.9/dist-packages (from torchtnt>=0.0.5->torcheval) (0.0.30)\n",
            "Requirement already satisfied: fsspec in /usr/local/lib/python3.9/dist-packages (from torchtnt>=0.0.5->torcheval) (2023.3.0)\n",
            "Requirement already satisfied: tqdm in /usr/local/lib/python3.9/dist-packages (from torchtnt>=0.0.5->torcheval) (4.65.0)\n",
            "Requirement already satisfied: torch in /usr/local/lib/python3.9/dist-packages (from torchtnt>=0.0.5->torcheval) (1.13.1+cu116)\n",
            "Requirement already satisfied: typing-inspect in /usr/local/lib/python3.9/dist-packages (from pyre-extensions->torchtnt>=0.0.5->torcheval) (0.8.0)\n",
            "Requirement already satisfied: grpcio>=1.24.3 in /usr/local/lib/python3.9/dist-packages (from tensorboard->torchtnt>=0.0.5->torcheval) (1.51.3)\n",
            "Requirement already satisfied: requests<3,>=2.21.0 in /usr/local/lib/python3.9/dist-packages (from tensorboard->torchtnt>=0.0.5->torcheval) (2.27.1)\n",
            "Requirement already satisfied: google-auth<3,>=1.6.3 in /usr/local/lib/python3.9/dist-packages (from tensorboard->torchtnt>=0.0.5->torcheval) (2.16.2)\n",
            "Requirement already satisfied: absl-py>=0.4 in /usr/local/lib/python3.9/dist-packages (from tensorboard->torchtnt>=0.0.5->torcheval) (1.4.0)\n",
            "Requirement already satisfied: wheel>=0.26 in /usr/local/lib/python3.9/dist-packages (from tensorboard->torchtnt>=0.0.5->torcheval) (0.40.0)\n",
            "Requirement already satisfied: werkzeug>=1.0.1 in /usr/local/lib/python3.9/dist-packages (from tensorboard->torchtnt>=0.0.5->torcheval) (2.2.3)\n",
            "Requirement already satisfied: markdown>=2.6.8 in /usr/local/lib/python3.9/dist-packages (from tensorboard->torchtnt>=0.0.5->torcheval) (3.4.3)\n",
            "Requirement already satisfied: protobuf<4,>=3.9.2 in /usr/local/lib/python3.9/dist-packages (from tensorboard->torchtnt>=0.0.5->torcheval) (3.19.6)\n",
            "Requirement already satisfied: tensorboard-data-server<0.7.0,>=0.6.0 in /usr/local/lib/python3.9/dist-packages (from tensorboard->torchtnt>=0.0.5->torcheval) (0.6.1)\n",
            "Requirement already satisfied: tensorboard-plugin-wit>=1.6.0 in /usr/local/lib/python3.9/dist-packages (from tensorboard->torchtnt>=0.0.5->torcheval) (1.8.1)\n",
            "Requirement already satisfied: google-auth-oauthlib<0.5,>=0.4.1 in /usr/local/lib/python3.9/dist-packages (from tensorboard->torchtnt>=0.0.5->torcheval) (0.4.6)\n",
            "Requirement already satisfied: cachetools<6.0,>=2.0.0 in /usr/local/lib/python3.9/dist-packages (from google-auth<3,>=1.6.3->tensorboard->torchtnt>=0.0.5->torcheval) (5.3.0)\n",
            "Requirement already satisfied: rsa<5,>=3.1.4 in /usr/local/lib/python3.9/dist-packages (from google-auth<3,>=1.6.3->tensorboard->torchtnt>=0.0.5->torcheval) (4.9)\n",
            "Requirement already satisfied: pyasn1-modules>=0.2.1 in /usr/local/lib/python3.9/dist-packages (from google-auth<3,>=1.6.3->tensorboard->torchtnt>=0.0.5->torcheval) (0.2.8)\n",
            "Requirement already satisfied: six>=1.9.0 in /usr/local/lib/python3.9/dist-packages (from google-auth<3,>=1.6.3->tensorboard->torchtnt>=0.0.5->torcheval) (1.16.0)\n",
            "Requirement already satisfied: requests-oauthlib>=0.7.0 in /usr/local/lib/python3.9/dist-packages (from google-auth-oauthlib<0.5,>=0.4.1->tensorboard->torchtnt>=0.0.5->torcheval) (1.3.1)\n",
            "Requirement already satisfied: importlib-metadata>=4.4 in /usr/local/lib/python3.9/dist-packages (from markdown>=2.6.8->tensorboard->torchtnt>=0.0.5->torcheval) (6.1.0)\n",
            "Requirement already satisfied: urllib3<1.27,>=1.21.1 in /usr/local/lib/python3.9/dist-packages (from requests<3,>=2.21.0->tensorboard->torchtnt>=0.0.5->torcheval) (1.26.15)\n",
            "Requirement already satisfied: charset-normalizer~=2.0.0 in /usr/local/lib/python3.9/dist-packages (from requests<3,>=2.21.0->tensorboard->torchtnt>=0.0.5->torcheval) (2.0.12)\n",
            "Requirement already satisfied: certifi>=2017.4.17 in /usr/local/lib/python3.9/dist-packages (from requests<3,>=2.21.0->tensorboard->torchtnt>=0.0.5->torcheval) (2022.12.7)\n",
            "Requirement already satisfied: idna<4,>=2.5 in /usr/local/lib/python3.9/dist-packages (from requests<3,>=2.21.0->tensorboard->torchtnt>=0.0.5->torcheval) (3.4)\n",
            "Requirement already satisfied: MarkupSafe>=2.1.1 in /usr/local/lib/python3.9/dist-packages (from werkzeug>=1.0.1->tensorboard->torchtnt>=0.0.5->torcheval) (2.1.2)\n",
            "Requirement already satisfied: mypy-extensions>=0.3.0 in /usr/local/lib/python3.9/dist-packages (from typing-inspect->pyre-extensions->torchtnt>=0.0.5->torcheval) (1.0.0)\n",
            "Requirement already satisfied: zipp>=0.5 in /usr/local/lib/python3.9/dist-packages (from importlib-metadata>=4.4->markdown>=2.6.8->tensorboard->torchtnt>=0.0.5->torcheval) (3.15.0)\n",
            "Requirement already satisfied: pyasn1<0.5.0,>=0.4.6 in /usr/local/lib/python3.9/dist-packages (from pyasn1-modules>=0.2.1->google-auth<3,>=1.6.3->tensorboard->torchtnt>=0.0.5->torcheval) (0.4.8)\n",
            "Requirement already satisfied: oauthlib>=3.0.0 in /usr/local/lib/python3.9/dist-packages (from requests-oauthlib>=0.7.0->google-auth-oauthlib<0.5,>=0.4.1->tensorboard->torchtnt>=0.0.5->torcheval) (3.2.2)\n"
          ]
        }
      ],
      "source": [
        "!{sys.executable} -m pip install torcheval"
      ]
    },
    {
      "cell_type": "code",
      "execution_count": 84,
      "id": "4H4XfqcH84s0",
      "metadata": {
        "colab": {
          "base_uri": "https://localhost:8080/"
        },
        "id": "4H4XfqcH84s0",
        "outputId": "ff2bc8c7-97c7-4ef6-d74b-be0bd33d4e30"
      },
      "outputs": [
        {
          "name": "stdout",
          "output_type": "stream",
          "text": [
            "0.34254908561706543\n",
            "0.06566789001226425\n"
          ]
        },
        {
          "data": {
            "text/plain": [
              "<torcheval.metrics.aggregation.auc.AUC at 0x7efdefba5fa0>"
            ]
          },
          "execution_count": 84,
          "metadata": {},
          "output_type": "execute_result"
        }
      ],
      "source": [
        "from torcheval.metrics.aggregation.auc import AUC\n",
        "\n",
        "metric = AUC()\n",
        "\n",
        "metric.update(torch.tensor(lats), torch.tensor(accs))\n",
        "print(metric.compute().item())\n",
        "metric.reset()\n",
        "\n",
        "metric.update(torch.tensor(random_lats), torch.tensor(random_accs))\n",
        "print(metric.compute().item())\n",
        "metric.reset()"
      ]
    },
    {
      "cell_type": "code",
      "execution_count": 114,
      "id": "iIOy1Hm6JmTE",
      "metadata": {
        "colab": {
          "base_uri": "https://localhost:8080/",
          "height": 279
        },
        "id": "iIOy1Hm6JmTE",
        "outputId": "2a1b47c8-bb80-4fbb-986b-93c0be2551ab"
      },
      "outputs": [
        {
          "data": {
            "image/png": "[encoded data removed]",
            "text/plain": [
              "<Figure size 288x288 with 1 Axes>"
            ]
          },
          "metadata": {},
          "output_type": "display_data"
        }
      ],
      "source": [
        "plt.figure(figsize=(4,4))\n",
        "\n",
        "accs_dis = [r['acc_dis'][-1] for l, r in lambda_report.items()]\n",
        "accs_rel = [r['acc_rel'][-1] for l, r in lambda_report.items()]\n",
        "\n",
        "plt.plot([0.1, base_acc], [0.1, base_acc], ls='--', color='green', label='id')\n",
        "plt.scatter(accs_dis, accs_rel, label='actual')\n",
        "plt.plot(accs_dis, accs_rel)\n",
        "\n",
        "for i, (d, r) in enumerate(zip(accs_dis, accs_rel)):\n",
        "    if i == 6:\n",
        "        break\n",
        "    plt.text(d+0.01, r-0.02, rf'$\\lambda={i}$')\n",
        "\n",
        "plt.xlabel('accuracy (discrete model)')\n",
        "plt.ylabel('accuracy (relaxed model)')\n",
        "\n",
        "plt.legend()\n",
        "\n",
        "plt.savefig(f'{figures}/acc_vs_acc.png', bbox_inches='tight')"
      ]
    }
  ],
  "metadata": {
    "accelerator": "GPU",
    "colab": {
      "provenance": []
    },
    "gpuClass": "standard",
    "kernelspec": {
      "display_name": "Python 3 (ipykernel)",
      "language": "python",
      "name": "python3"
    },
    "language_info": {
      "codemirror_mode": {
        "name": "ipython",
        "version": 3
      },
      "file_extension": ".py",
      "mimetype": "text/x-python",
      "name": "python",
      "nbconvert_exporter": "python",
      "pygments_lexer": "ipython3",
      "version": "3.8.2"
    },
    "vscode": {
      "interpreter": {
        "hash": "1a1af0ee75eeea9e2e1ee996c87e7a2b11a0bebd85af04bb136d915cefc0abce"
      }
    },
    "widgets": {
      "application/vnd.jupyter.widget-state+json": {
        "0c0983d200bb448d92508d120eb062a5": {
          "model_module": "@jupyter-widgets/controls",
          "model_module_version": "1.5.0",
          "model_name": "ProgressStyleModel",
          "state": {
            "_model_module": "@jupyter-widgets/controls",
            "_model_module_version": "1.5.0",
            "_model_name": "ProgressStyleModel",
            "_view_count": null,
            "_view_module": "@jupyter-widgets/base",
            "_view_module_version": "1.2.0",
            "_view_name": "StyleView",
            "bar_color": null,
            "description_width": ""
          }
        },
        "1777ab7afd064413b3d0a449198d7b59": {
          "model_module": "@jupyter-widgets/controls",
          "model_module_version": "1.5.0",
          "model_name": "HTMLModel",
          "state": {
            "_dom_classes": [],
            "_model_module": "@jupyter-widgets/controls",
            "_model_module_version": "1.5.0",
            "_model_name": "HTMLModel",
            "_view_count": null,
            "_view_module": "@jupyter-widgets/controls",
            "_view_module_version": "1.5.0",
            "_view_name": "HTMLView",
            "description": "",
            "description_tooltip": null,
            "layout": "IPY_MODEL_d27be3bc21d74ffe9379f57bd3cac23c",
            "placeholder": "​",
            "style": "IPY_MODEL_b548e7145ba04ca7a31f2c2d49f28b1d",
            "value": "100%"
          }
        },
        "3159db1eaf5f406a905a217aa5a6907c": {
          "model_module": "@jupyter-widgets/base",
          "model_module_version": "1.2.0",
          "model_name": "LayoutModel",
          "state": {
            "_model_module": "@jupyter-widgets/base",
            "_model_module_version": "1.2.0",
            "_model_name": "LayoutModel",
            "_view_count": null,
            "_view_module": "@jupyter-widgets/base",
            "_view_module_version": "1.2.0",
            "_view_name": "LayoutView",
            "align_content": null,
            "align_items": null,
            "align_self": null,
            "border": null,
            "bottom": null,
            "display": null,
            "flex": null,
            "flex_flow": null,
            "grid_area": null,
            "grid_auto_columns": null,
            "grid_auto_flow": null,
            "grid_auto_rows": null,
            "grid_column": null,
            "grid_gap": null,
            "grid_row": null,
            "grid_template_areas": null,
            "grid_template_columns": null,
            "grid_template_rows": null,
            "height": null,
            "justify_content": null,
            "justify_items": null,
            "left": null,
            "margin": null,
            "max_height": null,
            "max_width": null,
            "min_height": null,
            "min_width": null,
            "object_fit": null,
            "object_position": null,
            "order": null,
            "overflow": null,
            "overflow_x": null,
            "overflow_y": null,
            "padding": null,
            "right": null,
            "top": null,
            "visibility": null,
            "width": null
          }
        },
        "477e89bc639647ee9bdfbe701cd52a86": {
          "model_module": "@jupyter-widgets/controls",
          "model_module_version": "1.5.0",
          "model_name": "HTMLModel",
          "state": {
            "_dom_classes": [],
            "_model_module": "@jupyter-widgets/controls",
            "_model_module_version": "1.5.0",
            "_model_name": "HTMLModel",
            "_view_count": null,
            "_view_module": "@jupyter-widgets/controls",
            "_view_module_version": "1.5.0",
            "_view_name": "HTMLView",
            "description": "",
            "description_tooltip": null,
            "layout": "IPY_MODEL_c4d3b4abc6ca4791afc5d6c1be0ffe7e",
            "placeholder": "​",
            "style": "IPY_MODEL_75794795350742a5812a872077dc85b2",
            "value": "100%"
          }
        },
        "4eeb9fdaebb94e429ec7ada390ded43b": {
          "model_module": "@jupyter-widgets/controls",
          "model_module_version": "1.5.0",
          "model_name": "HBoxModel",
          "state": {
            "_dom_classes": [],
            "_model_module": "@jupyter-widgets/controls",
            "_model_module_version": "1.5.0",
            "_model_name": "HBoxModel",
            "_view_count": null,
            "_view_module": "@jupyter-widgets/controls",
            "_view_module_version": "1.5.0",
            "_view_name": "HBoxView",
            "box_style": "",
            "children": [
              "IPY_MODEL_477e89bc639647ee9bdfbe701cd52a86",
              "IPY_MODEL_de585ed8ecb94694b871cf08eeb72819",
              "IPY_MODEL_6d6f3ed5cc824323b8688e74ced0945a"
            ],
            "layout": "IPY_MODEL_3159db1eaf5f406a905a217aa5a6907c"
          }
        },
        "61a6380fd8e644418de4bf103eb5d777": {
          "model_module": "@jupyter-widgets/controls",
          "model_module_version": "1.5.0",
          "model_name": "ProgressStyleModel",
          "state": {
            "_model_module": "@jupyter-widgets/controls",
            "_model_module_version": "1.5.0",
            "_model_name": "ProgressStyleModel",
            "_view_count": null,
            "_view_module": "@jupyter-widgets/base",
            "_view_module_version": "1.2.0",
            "_view_name": "StyleView",
            "bar_color": null,
            "description_width": ""
          }
        },
        "6d6f3ed5cc824323b8688e74ced0945a": {
          "model_module": "@jupyter-widgets/controls",
          "model_module_version": "1.5.0",
          "model_name": "HTMLModel",
          "state": {
            "_dom_classes": [],
            "_model_module": "@jupyter-widgets/controls",
            "_model_module_version": "1.5.0",
            "_model_name": "HTMLModel",
            "_view_count": null,
            "_view_module": "@jupyter-widgets/controls",
            "_view_module_version": "1.5.0",
            "_view_name": "HTMLView",
            "description": "",
            "description_tooltip": null,
            "layout": "IPY_MODEL_f83fa821b3a0491db839e1a3fdb5349c",
            "placeholder": "​",
            "style": "IPY_MODEL_ddbebefad5c4490a99c903791ed19f10",
            "value": " 44.7M/44.7M [00:00&lt;00:00, 179MB/s]"
          }
        },
        "7054800060944bbfaf760e15c2a113b4": {
          "model_module": "@jupyter-widgets/controls",
          "model_module_version": "1.5.0",
          "model_name": "HBoxModel",
          "state": {
            "_dom_classes": [],
            "_model_module": "@jupyter-widgets/controls",
            "_model_module_version": "1.5.0",
            "_model_name": "HBoxModel",
            "_view_count": null,
            "_view_module": "@jupyter-widgets/controls",
            "_view_module_version": "1.5.0",
            "_view_name": "HBoxView",
            "box_style": "",
            "children": [
              "IPY_MODEL_1777ab7afd064413b3d0a449198d7b59",
              "IPY_MODEL_a0dad4f2c69a4731a615138c1000a22a",
              "IPY_MODEL_8072241fca9044938fd27658b8655669"
            ],
            "layout": "IPY_MODEL_88ae3c8952384fe6b3069819997b7b28"
          }
        },
        "75794795350742a5812a872077dc85b2": {
          "model_module": "@jupyter-widgets/controls",
          "model_module_version": "1.5.0",
          "model_name": "DescriptionStyleModel",
          "state": {
            "_model_module": "@jupyter-widgets/controls",
            "_model_module_version": "1.5.0",
            "_model_name": "DescriptionStyleModel",
            "_view_count": null,
            "_view_module": "@jupyter-widgets/base",
            "_view_module_version": "1.2.0",
            "_view_name": "StyleView",
            "description_width": ""
          }
        },
        "8072241fca9044938fd27658b8655669": {
          "model_module": "@jupyter-widgets/controls",
          "model_module_version": "1.5.0",
          "model_name": "HTMLModel",
          "state": {
            "_dom_classes": [],
            "_model_module": "@jupyter-widgets/controls",
            "_model_module_version": "1.5.0",
            "_model_name": "HTMLModel",
            "_view_count": null,
            "_view_module": "@jupyter-widgets/controls",
            "_view_module_version": "1.5.0",
            "_view_name": "HTMLView",
            "description": "",
            "description_tooltip": null,
            "layout": "IPY_MODEL_c8ac51ae1844428cbc8b28a21ddcbeab",
            "placeholder": "​",
            "style": "IPY_MODEL_8ea8c87efb144e1cae93af0a0298b1a5",
            "value": " 170498071/170498071 [00:02&lt;00:00, 49223499.80it/s]"
          }
        },
        "88ae3c8952384fe6b3069819997b7b28": {
          "model_module": "@jupyter-widgets/base",
          "model_module_version": "1.2.0",
          "model_name": "LayoutModel",
          "state": {
            "_model_module": "@jupyter-widgets/base",
            "_model_module_version": "1.2.0",
            "_model_name": "LayoutModel",
            "_view_count": null,
            "_view_module": "@jupyter-widgets/base",
            "_view_module_version": "1.2.0",
            "_view_name": "LayoutView",
            "align_content": null,
            "align_items": null,
            "align_self": null,
            "border": null,
            "bottom": null,
            "display": null,
            "flex": null,
            "flex_flow": null,
            "grid_area": null,
            "grid_auto_columns": null,
            "grid_auto_flow": null,
            "grid_auto_rows": null,
            "grid_column": null,
            "grid_gap": null,
            "grid_row": null,
            "grid_template_areas": null,
            "grid_template_columns": null,
            "grid_template_rows": null,
            "height": null,
            "justify_content": null,
            "justify_items": null,
            "left": null,
            "margin": null,
            "max_height": null,
            "max_width": null,
            "min_height": null,
            "min_width": null,
            "object_fit": null,
            "object_position": null,
            "order": null,
            "overflow": null,
            "overflow_x": null,
            "overflow_y": null,
            "padding": null,
            "right": null,
            "top": null,
            "visibility": null,
            "width": null
          }
        },
        "8ea8c87efb144e1cae93af0a0298b1a5": {
          "model_module": "@jupyter-widgets/controls",
          "model_module_version": "1.5.0",
          "model_name": "DescriptionStyleModel",
          "state": {
            "_model_module": "@jupyter-widgets/controls",
            "_model_module_version": "1.5.0",
            "_model_name": "DescriptionStyleModel",
            "_view_count": null,
            "_view_module": "@jupyter-widgets/base",
            "_view_module_version": "1.2.0",
            "_view_name": "StyleView",
            "description_width": ""
          }
        },
        "a0dad4f2c69a4731a615138c1000a22a": {
          "model_module": "@jupyter-widgets/controls",
          "model_module_version": "1.5.0",
          "model_name": "FloatProgressModel",
          "state": {
            "_dom_classes": [],
            "_model_module": "@jupyter-widgets/controls",
            "_model_module_version": "1.5.0",
            "_model_name": "FloatProgressModel",
            "_view_count": null,
            "_view_module": "@jupyter-widgets/controls",
            "_view_module_version": "1.5.0",
            "_view_name": "ProgressView",
            "bar_style": "success",
            "description": "",
            "description_tooltip": null,
            "layout": "IPY_MODEL_e7ba6ec2d39e4a09bdb0b2b4a5defb72",
            "max": 170498071,
            "min": 0,
            "orientation": "horizontal",
            "style": "IPY_MODEL_0c0983d200bb448d92508d120eb062a5",
            "value": 170498071
          }
        },
        "a9d2f4ce105b40238c47fe634754c29b": {
          "model_module": "@jupyter-widgets/base",
          "model_module_version": "1.2.0",
          "model_name": "LayoutModel",
          "state": {
            "_model_module": "@jupyter-widgets/base",
            "_model_module_version": "1.2.0",
            "_model_name": "LayoutModel",
            "_view_count": null,
            "_view_module": "@jupyter-widgets/base",
            "_view_module_version": "1.2.0",
            "_view_name": "LayoutView",
            "align_content": null,
            "align_items": null,
            "align_self": null,
            "border": null,
            "bottom": null,
            "display": null,
            "flex": null,
            "flex_flow": null,
            "grid_area": null,
            "grid_auto_columns": null,
            "grid_auto_flow": null,
            "grid_auto_rows": null,
            "grid_column": null,
            "grid_gap": null,
            "grid_row": null,
            "grid_template_areas": null,
            "grid_template_columns": null,
            "grid_template_rows": null,
            "height": null,
            "justify_content": null,
            "justify_items": null,
            "left": null,
            "margin": null,
            "max_height": null,
            "max_width": null,
            "min_height": null,
            "min_width": null,
            "object_fit": null,
            "object_position": null,
            "order": null,
            "overflow": null,
            "overflow_x": null,
            "overflow_y": null,
            "padding": null,
            "right": null,
            "top": null,
            "visibility": null,
            "width": null
          }
        },
        "b548e7145ba04ca7a31f2c2d49f28b1d": {
          "model_module": "@jupyter-widgets/controls",
          "model_module_version": "1.5.0",
          "model_name": "DescriptionStyleModel",
          "state": {
            "_model_module": "@jupyter-widgets/controls",
            "_model_module_version": "1.5.0",
            "_model_name": "DescriptionStyleModel",
            "_view_count": null,
            "_view_module": "@jupyter-widgets/base",
            "_view_module_version": "1.2.0",
            "_view_name": "StyleView",
            "description_width": ""
          }
        },
        "c4d3b4abc6ca4791afc5d6c1be0ffe7e": {
          "model_module": "@jupyter-widgets/base",
          "model_module_version": "1.2.0",
          "model_name": "LayoutModel",
          "state": {
            "_model_module": "@jupyter-widgets/base",
            "_model_module_version": "1.2.0",
            "_model_name": "LayoutModel",
            "_view_count": null,
            "_view_module": "@jupyter-widgets/base",
            "_view_module_version": "1.2.0",
            "_view_name": "LayoutView",
            "align_content": null,
            "align_items": null,
            "align_self": null,
            "border": null,
            "bottom": null,
            "display": null,
            "flex": null,
            "flex_flow": null,
            "grid_area": null,
            "grid_auto_columns": null,
            "grid_auto_flow": null,
            "grid_auto_rows": null,
            "grid_column": null,
            "grid_gap": null,
            "grid_row": null,
            "grid_template_areas": null,
            "grid_template_columns": null,
            "grid_template_rows": null,
            "height": null,
            "justify_content": null,
            "justify_items": null,
            "left": null,
            "margin": null,
            "max_height": null,
            "max_width": null,
            "min_height": null,
            "min_width": null,
            "object_fit": null,
            "object_position": null,
            "order": null,
            "overflow": null,
            "overflow_x": null,
            "overflow_y": null,
            "padding": null,
            "right": null,
            "top": null,
            "visibility": null,
            "width": null
          }
        },
        "c8ac51ae1844428cbc8b28a21ddcbeab": {
          "model_module": "@jupyter-widgets/base",
          "model_module_version": "1.2.0",
          "model_name": "LayoutModel",
          "state": {
            "_model_module": "@jupyter-widgets/base",
            "_model_module_version": "1.2.0",
            "_model_name": "LayoutModel",
            "_view_count": null,
            "_view_module": "@jupyter-widgets/base",
            "_view_module_version": "1.2.0",
            "_view_name": "LayoutView",
            "align_content": null,
            "align_items": null,
            "align_self": null,
            "border": null,
            "bottom": null,
            "display": null,
            "flex": null,
            "flex_flow": null,
            "grid_area": null,
            "grid_auto_columns": null,
            "grid_auto_flow": null,
            "grid_auto_rows": null,
            "grid_column": null,
            "grid_gap": null,
            "grid_row": null,
            "grid_template_areas": null,
            "grid_template_columns": null,
            "grid_template_rows": null,
            "height": null,
            "justify_content": null,
            "justify_items": null,
            "left": null,
            "margin": null,
            "max_height": null,
            "max_width": null,
            "min_height": null,
            "min_width": null,
            "object_fit": null,
            "object_position": null,
            "order": null,
            "overflow": null,
            "overflow_x": null,
            "overflow_y": null,
            "padding": null,
            "right": null,
            "top": null,
            "visibility": null,
            "width": null
          }
        },
        "d27be3bc21d74ffe9379f57bd3cac23c": {
          "model_module": "@jupyter-widgets/base",
          "model_module_version": "1.2.0",
          "model_name": "LayoutModel",
          "state": {
            "_model_module": "@jupyter-widgets/base",
            "_model_module_version": "1.2.0",
            "_model_name": "LayoutModel",
            "_view_count": null,
            "_view_module": "@jupyter-widgets/base",
            "_view_module_version": "1.2.0",
            "_view_name": "LayoutView",
            "align_content": null,
            "align_items": null,
            "align_self": null,
            "border": null,
            "bottom": null,
            "display": null,
            "flex": null,
            "flex_flow": null,
            "grid_area": null,
            "grid_auto_columns": null,
            "grid_auto_flow": null,
            "grid_auto_rows": null,
            "grid_column": null,
            "grid_gap": null,
            "grid_row": null,
            "grid_template_areas": null,
            "grid_template_columns": null,
            "grid_template_rows": null,
            "height": null,
            "justify_content": null,
            "justify_items": null,
            "left": null,
            "margin": null,
            "max_height": null,
            "max_width": null,
            "min_height": null,
            "min_width": null,
            "object_fit": null,
            "object_position": null,
            "order": null,
            "overflow": null,
            "overflow_x": null,
            "overflow_y": null,
            "padding": null,
            "right": null,
            "top": null,
            "visibility": null,
            "width": null
          }
        },
        "ddbebefad5c4490a99c903791ed19f10": {
          "model_module": "@jupyter-widgets/controls",
          "model_module_version": "1.5.0",
          "model_name": "DescriptionStyleModel",
          "state": {
            "_model_module": "@jupyter-widgets/controls",
            "_model_module_version": "1.5.0",
            "_model_name": "DescriptionStyleModel",
            "_view_count": null,
            "_view_module": "@jupyter-widgets/base",
            "_view_module_version": "1.2.0",
            "_view_name": "StyleView",
            "description_width": ""
          }
        },
        "de585ed8ecb94694b871cf08eeb72819": {
          "model_module": "@jupyter-widgets/controls",
          "model_module_version": "1.5.0",
          "model_name": "FloatProgressModel",
          "state": {
            "_dom_classes": [],
            "_model_module": "@jupyter-widgets/controls",
            "_model_module_version": "1.5.0",
            "_model_name": "FloatProgressModel",
            "_view_count": null,
            "_view_module": "@jupyter-widgets/controls",
            "_view_module_version": "1.5.0",
            "_view_name": "ProgressView",
            "bar_style": "success",
            "description": "",
            "description_tooltip": null,
            "layout": "IPY_MODEL_a9d2f4ce105b40238c47fe634754c29b",
            "max": 46830571,
            "min": 0,
            "orientation": "horizontal",
            "style": "IPY_MODEL_61a6380fd8e644418de4bf103eb5d777",
            "value": 46830571
          }
        },
        "e7ba6ec2d39e4a09bdb0b2b4a5defb72": {
          "model_module": "@jupyter-widgets/base",
          "model_module_version": "1.2.0",
          "model_name": "LayoutModel",
          "state": {
            "_model_module": "@jupyter-widgets/base",
            "_model_module_version": "1.2.0",
            "_model_name": "LayoutModel",
            "_view_count": null,
            "_view_module": "@jupyter-widgets/base",
            "_view_module_version": "1.2.0",
            "_view_name": "LayoutView",
            "align_content": null,
            "align_items": null,
            "align_self": null,
            "border": null,
            "bottom": null,
            "display": null,
            "flex": null,
            "flex_flow": null,
            "grid_area": null,
            "grid_auto_columns": null,
            "grid_auto_flow": null,
            "grid_auto_rows": null,
            "grid_column": null,
            "grid_gap": null,
            "grid_row": null,
            "grid_template_areas": null,
            "grid_template_columns": null,
            "grid_template_rows": null,
            "height": null,
            "justify_content": null,
            "justify_items": null,
            "left": null,
            "margin": null,
            "max_height": null,
            "max_width": null,
            "min_height": null,
            "min_width": null,
            "object_fit": null,
            "object_position": null,
            "order": null,
            "overflow": null,
            "overflow_x": null,
            "overflow_y": null,
            "padding": null,
            "right": null,
            "top": null,
            "visibility": null,
            "width": null
          }
        },
        "f83fa821b3a0491db839e1a3fdb5349c": {
          "model_module": "@jupyter-widgets/base",
          "model_module_version": "1.2.0",
          "model_name": "LayoutModel",
          "state": {
            "_model_module": "@jupyter-widgets/base",
            "_model_module_version": "1.2.0",
            "_model_name": "LayoutModel",
            "_view_count": null,
            "_view_module": "@jupyter-widgets/base",
            "_view_module_version": "1.2.0",
            "_view_name": "LayoutView",
            "align_content": null,
            "align_items": null,
            "align_self": null,
            "border": null,
            "bottom": null,
            "display": null,
            "flex": null,
            "flex_flow": null,
            "grid_area": null,
            "grid_auto_columns": null,
            "grid_auto_flow": null,
            "grid_auto_rows": null,
            "grid_column": null,
            "grid_gap": null,
            "grid_row": null,
            "grid_template_areas": null,
            "grid_template_columns": null,
            "grid_template_rows": null,
            "height": null,
            "justify_content": null,
            "justify_items": null,
            "left": null,
            "margin": null,
            "max_height": null,
            "max_width": null,
            "min_height": null,
            "min_width": null,
            "object_fit": null,
            "object_position": null,
            "order": null,
            "overflow": null,
            "overflow_x": null,
            "overflow_y": null,
            "padding": null,
            "right": null,
            "top": null,
            "visibility": null,
            "width": null
          }
        }
      }
    }
  },
  "nbformat": 4,
  "nbformat_minor": 5
}
