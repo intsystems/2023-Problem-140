{
  "cells": [
    {
      "cell_type": "code",
      "execution_count": 78,
      "metadata": {
        "colab": {
          "base_uri": "https://localhost:8080/"
        },
        "id": "eO2UR9qYnz5G",
        "outputId": "16a42e8b-28db-4d99-c254-50c90010683f"
      },
      "outputs": [
        {
          "output_type": "stream",
          "name": "stdout",
          "text": [
            "Drive already mounted at /content/drive; to attempt to forcibly remount, call drive.mount(\"/content/drive\", force_remount=True).\n"
          ]
        }
      ],
      "source": [
        "from google.colab import drive\n",
        "drive.mount('/content/drive')"
      ],
      "id": "eO2UR9qYnz5G"
    },
    {
      "cell_type": "code",
      "execution_count": 79,
      "metadata": {
        "id": "6d034c3d"
      },
      "outputs": [],
      "source": [
        "from tqdm import tqdm\n",
        "from typing import Dict\n",
        "import time\n",
        "\n",
        "import torch\n",
        "import torch.nn as nn\n",
        "import torch.fx\n",
        "from torch.distributions.uniform import Uniform\n",
        "from torch.distributions.exponential import Exponential\n",
        "\n",
        "import numpy as np \n",
        "import pandas as pd\n",
        "import matplotlib as mpl\n",
        "import matplotlib.pyplot as plt\n",
        "import seaborn as sns\n",
        "mpl.style.use('seaborn')\n",
        "\n",
        "import sys\n",
        "sys.path.append('/content/drive/MyDrive/m1p')\n",
        "\n",
        "from fast_nas_adapt.src.resnet18 import ResNet18\n",
        "from fast_nas_adapt.src.module2graph import GraphInterperterWithGamma\n"
      ],
      "id": "6d034c3d"
    },
    {
      "cell_type": "code",
      "execution_count": 80,
      "metadata": {
        "id": "86333e9a-0ec1-4323-9de3-bb15c6efedce"
      },
      "outputs": [],
      "source": [
        "class GraphInterperterWithGumbelSoftmaxGamma(GraphInterperterWithGamma):\n",
        "    def __init__(self, mod, gamma_shift=0.0, temperature=1.0):\n",
        "        self.gamma_shift = gamma_shift\n",
        "        self.temperature = temperature\n",
        "        super().__init__(mod)\n",
        "\n",
        "    def init_gammas(self):\n",
        "        i = 0\n",
        "        gammas = []\n",
        "        self.gammas_name = {}\n",
        "        for node in self.graph.nodes:\n",
        "            if node.op == 'call_module':\n",
        "                gammas.append(np.random.randn()+self.gamma_shift)\n",
        "                self.gammas_name[str(node)] = i# перевод в str тут для удобства. в реалньых методах это не нужно\n",
        "                i+=1                        # да и вообще, тут по идее должен быть тензор/параметр\n",
        "        self.gammas = torch.as_tensor(gammas)\n",
        "        self.discrete = False \n",
        "\n",
        "    def sample_gammas(self, previous=False):\n",
        "        if previous:\n",
        "            return self.previous_sample\n",
        "\n",
        "        if self.discrete:\n",
        "            return self.gammas\n",
        "        else:\n",
        "            d = torch.distributions.RelaxedBernoulli(logits=self.gammas, temperature=self.temperature)\n",
        "            self.previous_sample = d.rsample()\n",
        "            return self.previous_sample\n",
        "        \n",
        "    def make_gammas_discrete(self):\n",
        "        self.gammas.data = (self.gammas.data>=0) * 1.0\n",
        "        self.discrete = True"
      ],
      "id": "86333e9a-0ec1-4323-9de3-bb15c6efedce"
    },
    {
      "cell_type": "code",
      "source": [
        "class HyperNet(nn.Module):\n",
        "    def __init__(self, out_size, hidden_layer_num=1, hidden_size=128):\n",
        "        \"\"\"\n",
        "        :param hidden_layer_num: количество скрытых слоев (может быть нулевым)\n",
        "        :param hidden_size: количество нейронов на скрытом слое (актуально, если скрытые слои есть)\n",
        "        :param out_size: количество параметров\n",
        "        \"\"\"\n",
        "        nn.Module.__init__(self)\n",
        "\n",
        "        layers = []\n",
        "        in_ = 1 # исходная входная размерность\n",
        "        for _ in range(hidden_layer_num):\n",
        "            layers.append(nn.Linear(in_, hidden_size))\n",
        "            layers.append(nn.ReLU())\n",
        "            in_ = hidden_size\n",
        "        layers.append(nn.Linear(in_, out_size))\n",
        "\n",
        "        self.model = nn.Sequential(*layers)\n",
        "\n",
        "    def forward(self, lambd):\n",
        "        return self.model(lambd)"
      ],
      "metadata": {
        "id": "iRBTITUpJwcb"
      },
      "id": "iRBTITUpJwcb",
      "execution_count": 81,
      "outputs": []
    },
    {
      "cell_type": "markdown",
      "metadata": {
        "id": "9b90ba9f"
      },
      "source": [
        "Получим претрейн на n эпох"
      ],
      "id": "9b90ba9f"
    },
    {
      "cell_type": "code",
      "execution_count": 82,
      "metadata": {
        "colab": {
          "base_uri": "https://localhost:8080/"
        },
        "id": "02edb62a",
        "outputId": "9e5886e5-a651-46fb-cc63-495eecd5a4c0"
      },
      "outputs": [
        {
          "output_type": "stream",
          "name": "stderr",
          "text": [
            "Using cache found in /root/.cache/torch/hub/pytorch_vision_v0.10.0\n"
          ]
        },
        {
          "output_type": "execute_result",
          "data": {
            "text/plain": [
              "<All keys matched successfully>"
            ]
          },
          "metadata": {},
          "execution_count": 82
        }
      ],
      "source": [
        "model = ResNet18(num_classes=10).cuda()\n",
        "\n",
        "model_path = '/content/drive/MyDrive/m1p/pretrained/model_23.ckpt'\n",
        "state_dict = torch.load(model_path)\n",
        "model.load_state_dict(state_dict)"
      ],
      "id": "02edb62a"
    },
    {
      "cell_type": "code",
      "execution_count": 83,
      "metadata": {
        "colab": {
          "base_uri": "https://localhost:8080/"
        },
        "id": "682c250e",
        "outputId": "8a3317c9-284a-4f5b-bfad-93d80e4025ff",
        "scrolled": true
      },
      "outputs": [
        {
          "output_type": "stream",
          "name": "stdout",
          "text": [
            "Files already downloaded and verified\n",
            "Files already downloaded and verified\n"
          ]
        }
      ],
      "source": [
        "from fast_nas_adapt.src.cifar_data import get_dataloaders\n",
        "\n",
        "train_dl, test_dl = get_dataloaders(classes=range(10), batch_size=64,\n",
        "                                    img_size=33)\n"
      ],
      "id": "682c250e"
    },
    {
      "cell_type": "code",
      "execution_count": 84,
      "metadata": {
        "id": "f8f4cc70-5acb-495b-868e-e00d2b93d305"
      },
      "outputs": [],
      "source": [
        "@torch.no_grad()\n",
        "def validate(model, dataloader, device):\n",
        "    model = model.to(device)\n",
        "    n_true = 0\n",
        "    n_tot = 0\n",
        "    for i, (X, y) in tqdm(enumerate(dataloader), 'validating'):\n",
        "        if X.shape[0] != 64:\n",
        "            continue\n",
        "        n_true += (model(X.to(device)).argmax(-1) == y.to(device)).sum().item()\n",
        "        n_tot += 64\n",
        "    return n_true / n_tot\n",
        "\n",
        "@torch.no_grad()\n",
        "def discretise_validate(gammas, dataloader, device):\n",
        "    imodel = GraphInterperterWithGumbelSoftmaxGamma(model.eval(), 4, temperature=0.2).to(device).eval()\n",
        "    imodel.gammas = gammas\n",
        "    imodel.make_gammas_discrete()\n",
        "    return validate(imodel, dataloader, device)"
      ],
      "id": "f8f4cc70-5acb-495b-868e-e00d2b93d305"
    },
    {
      "cell_type": "code",
      "execution_count": 85,
      "metadata": {
        "colab": {
          "base_uri": "https://localhost:8080/"
        },
        "id": "cb75b59a-e807-4ac7-b452-09344836505e",
        "outputId": "7f75ef0a-71a6-44cd-c16f-12fc1953530a"
      },
      "outputs": [
        {
          "output_type": "stream",
          "name": "stderr",
          "text": [
            "validating: 157it [00:02, 73.22it/s] \n"
          ]
        },
        {
          "output_type": "execute_result",
          "data": {
            "text/plain": [
              "0.6464342948717948"
            ]
          },
          "metadata": {},
          "execution_count": 85
        }
      ],
      "source": [
        "validate(model, test_dl, 'cuda')"
      ],
      "id": "cb75b59a-e807-4ac7-b452-09344836505e"
    },
    {
      "cell_type": "markdown",
      "metadata": {
        "id": "a8f0d25d"
      },
      "source": [
        "Гиперпараметры:"
      ],
      "id": "a8f0d25d"
    },
    {
      "cell_type": "code",
      "execution_count": 115,
      "metadata": {
        "id": "384b99a5"
      },
      "outputs": [],
      "source": [
        "device = 'cuda'\n",
        "\n",
        "imodel = GraphInterperterWithGumbelSoftmaxGamma(model.eval(), 4, temperature=0.2).to(device).eval()\n",
        "\n",
        "params_count = len(imodel.gammas)\n",
        "hypernet = HyperNet(params_count, hidden_layer_num=2).to(device)\n",
        "\n",
        "optimizer = torch.optim.Adam(hypernet.parameters(), lr=0.001)\n",
        "loss_fn = torch.nn.CrossEntropyLoss()\n",
        "\n",
        "times_path = \"/content/drive/MyDrive/m1p/ResNet18HomeMeasurments.csv\"\n",
        "times = pd.read_csv(times_path, index_col=0)\n",
        "times = torch.tensor(times['mean'], dtype=torch.float32).cuda()\n",
        "times /= times.sum()"
      ],
      "id": "384b99a5"
    },
    {
      "cell_type": "code",
      "source": [
        "gammas = hypernet(torch.tensor([float(0)]).to(device))\n",
        "((gammas>0) * 1.0).sum().item()"
      ],
      "metadata": {
        "colab": {
          "base_uri": "https://localhost:8080/"
        },
        "id": "l3X1dbmqmTrW",
        "outputId": "7dbce02f-1d4a-4506-83cf-b2b51ca60f16"
      },
      "id": "l3X1dbmqmTrW",
      "execution_count": 116,
      "outputs": [
        {
          "output_type": "execute_result",
          "data": {
            "text/plain": [
              "19.0"
            ]
          },
          "metadata": {},
          "execution_count": 116
        }
      ]
    },
    {
      "cell_type": "code",
      "source": [
        "EPOCHS = 1+2*10\n",
        "lambd = Uniform(0, 5)\n",
        "# lambd = Exponential(torch.tensor([1.0]))\n",
        "\n",
        "hypernet_states = []\n",
        "hypernet.train()\n",
        "\n",
        "for epoch in range(EPOCHS):\n",
        "    for i, (X, y) in tqdm(enumerate(train_dl), f'training epoch {epoch}/{EPOCHS-1}', total=len(train_dl)):\n",
        "        if X.shape[0] != 64:\n",
        "            continue\n",
        "\n",
        "        l = lambd.sample().to(device).view(1)\n",
        "        imodel = GraphInterperterWithGumbelSoftmaxGamma(model.eval(), 5, temperature=0.2).to(device).eval()\n",
        "\n",
        "        optimizer.zero_grad()\n",
        "\n",
        "        gammas = hypernet(l)\n",
        "        if epoch == 0:\n",
        "            loss = ((imodel.gammas.to(device) - gammas)**2).sum()\n",
        "            # loss = ((imodel.sample_gammas() - 1)**2).sum()\n",
        "        else:\n",
        "            imodel.gammas = gammas\n",
        "            y_pred = imodel(X.to(device))\n",
        "            loss = loss_fn(y_pred, y.to(device)) + l * imodel.sample_gammas(previous=True).dot(times)\n",
        "        loss.backward()\n",
        "\n",
        "        optimizer.step()\n",
        "\n",
        "    val_acc = discretise_validate(hypernet(torch.zeros(1).to(device)), test_dl, device)\n",
        "        \n",
        "    torch.save(hypernet.state_dict(), './temp')\n",
        "    hypernet_states.append(torch.load('./temp'))\n",
        "\n",
        "    if epoch == 0:\n",
        "        assert val_acc > 0.5\n",
        "    if val_acc < 0.15:\n",
        "        break"
      ],
      "metadata": {
        "colab": {
          "base_uri": "https://localhost:8080/"
        },
        "id": "ib8bre6FJqjx",
        "outputId": "251b69c5-2233-4049-f27c-4a9d27bf0bf7"
      },
      "id": "ib8bre6FJqjx",
      "execution_count": 117,
      "outputs": [
        {
          "output_type": "stream",
          "name": "stderr",
          "text": [
            "training epoch 0/20: 100%|██████████| 782/782 [00:13<00:00, 58.10it/s]\n",
            "validating: 157it [00:01, 93.05it/s] \n",
            "training epoch 1/20: 100%|██████████| 782/782 [00:30<00:00, 25.63it/s]\n",
            "validating: 157it [00:01, 98.36it/s] \n",
            "training epoch 2/20: 100%|██████████| 782/782 [00:31<00:00, 24.81it/s]\n",
            "validating: 157it [00:01, 100.55it/s]\n",
            "training epoch 3/20: 100%|██████████| 782/782 [00:30<00:00, 25.87it/s]\n",
            "validating: 157it [00:01, 97.55it/s] \n",
            "training epoch 4/20: 100%|██████████| 782/782 [00:30<00:00, 25.31it/s]\n",
            "validating: 157it [00:02, 75.10it/s]\n",
            "training epoch 5/20: 100%|██████████| 782/782 [00:30<00:00, 25.40it/s]\n",
            "validating: 157it [00:01, 98.86it/s] \n",
            "training epoch 6/20: 100%|██████████| 782/782 [00:31<00:00, 24.73it/s]\n",
            "validating: 157it [00:02, 70.71it/s]\n",
            "training epoch 7/20: 100%|██████████| 782/782 [00:30<00:00, 25.85it/s]\n",
            "validating: 157it [00:01, 99.40it/s] \n",
            "training epoch 8/20: 100%|██████████| 782/782 [00:29<00:00, 26.24it/s]\n",
            "validating: 157it [00:01, 96.23it/s] \n",
            "training epoch 9/20: 100%|██████████| 782/782 [00:31<00:00, 25.08it/s]\n",
            "validating: 157it [00:01, 98.42it/s] \n",
            "training epoch 10/20: 100%|██████████| 782/782 [00:30<00:00, 25.24it/s]\n",
            "validating: 157it [00:01, 99.31it/s] \n",
            "training epoch 11/20: 100%|██████████| 782/782 [00:32<00:00, 23.95it/s]\n",
            "validating: 157it [00:01, 97.98it/s] \n",
            "training epoch 12/20: 100%|██████████| 782/782 [00:31<00:00, 24.78it/s]\n",
            "validating: 157it [00:01, 97.41it/s] \n",
            "training epoch 13/20: 100%|██████████| 782/782 [00:31<00:00, 24.80it/s]\n",
            "validating: 157it [00:01, 94.27it/s] \n",
            "training epoch 14/20: 100%|██████████| 782/782 [00:30<00:00, 25.57it/s]\n",
            "validating: 157it [00:01, 97.90it/s] \n",
            "training epoch 15/20: 100%|██████████| 782/782 [00:31<00:00, 25.07it/s]\n",
            "validating: 157it [00:02, 73.75it/s]\n",
            "training epoch 16/20: 100%|██████████| 782/782 [00:30<00:00, 25.84it/s]\n",
            "validating: 157it [00:01, 104.18it/s]\n",
            "training epoch 17/20: 100%|██████████| 782/782 [00:30<00:00, 25.93it/s]\n",
            "validating: 157it [00:01, 86.42it/s]\n",
            "training epoch 18/20: 100%|██████████| 782/782 [00:30<00:00, 25.71it/s]\n",
            "validating: 157it [00:01, 101.41it/s]\n",
            "training epoch 19/20: 100%|██████████| 782/782 [00:30<00:00, 25.94it/s]\n",
            "validating: 157it [00:01, 101.16it/s]\n",
            "training epoch 20/20: 100%|██████████| 782/782 [00:30<00:00, 25.40it/s]\n",
            "validating: 157it [00:02, 78.13it/s] \n"
          ]
        }
      ]
    },
    {
      "cell_type": "code",
      "source": [
        "gammas = hypernet(torch.tensor([float(1)]).to(device))\n",
        "((gammas>0) * 1.0).sum().item()"
      ],
      "metadata": {
        "colab": {
          "base_uri": "https://localhost:8080/"
        },
        "id": "jkps4WRMsUtP",
        "outputId": "724f702e-5bf6-40d2-9908-1f29a7fc22bc"
      },
      "id": "jkps4WRMsUtP",
      "execution_count": 118,
      "outputs": [
        {
          "output_type": "execute_result",
          "data": {
            "text/plain": [
              "47.0"
            ]
          },
          "metadata": {},
          "execution_count": 118
        }
      ]
    },
    {
      "cell_type": "code",
      "source": [
        "loss.item(), gammas"
      ],
      "metadata": {
        "colab": {
          "base_uri": "https://localhost:8080/"
        },
        "id": "P_rHtYNjq8Xd",
        "outputId": "07c9ab46-f3a0-412c-d379-6bd03d3fe306"
      },
      "id": "P_rHtYNjq8Xd",
      "execution_count": 119,
      "outputs": [
        {
          "output_type": "execute_result",
          "data": {
            "text/plain": [
              "(2.278853178024292,\n",
              " tensor([ 12.9242,  13.4119,  17.4671,  15.8387,  11.7515,  17.1456,  17.2761,\n",
              "          15.7342,  16.7620,  17.0576,  17.0762,  -1.8965,   0.4489,  -9.4076,\n",
              "          14.3697,  15.6857,  15.7199,  13.7789,  17.8748,  16.2453,  14.9366,\n",
              "          10.9206,  16.7257,  17.6138,  10.8379,   9.3772,  11.9965,  12.3727,\n",
              "           7.9538,  18.8640,  12.7260,  12.8041,  15.6079,  19.8307,  14.1731,\n",
              "          10.4748,  15.8768,  19.5509, -13.1236,  -8.3718,  -6.3013, -12.2304,\n",
              "         -11.8188,  14.0056,   1.9318,  13.6481,  10.0544,  -1.8539,  12.1854,\n",
              "          12.6537,  15.1993,  17.2600, -12.8155,  -7.0355,  -5.0919, -12.7770,\n",
              "         -13.1317,  12.5534,  14.3489,  17.3716], device='cuda:0',\n",
              "        grad_fn=<AddBackward0>))"
            ]
          },
          "metadata": {},
          "execution_count": 119
        }
      ]
    },
    {
      "cell_type": "code",
      "source": [
        "def get_accs(lambds, hypernet_states):\n",
        "    accs = []\n",
        "\n",
        "    imodel = GraphInterperterWithGumbelSoftmaxGamma(model.eval(), temperature=0.2).to(device).eval()\n",
        "\n",
        "    for hypernet_state in hypernet_states:\n",
        "        if len(hypernet_states) > 1:\n",
        "            accs.append([])\n",
        "\n",
        "        hypernet.load_state_dict(hypernet_state)\n",
        "\n",
        "        for lambd in lambds:\n",
        "            gammas = hypernet(torch.tensor([lambd]).to(device))\n",
        "            imodel.gammas = gammas\n",
        "            imodel.make_gammas_discrete()\n",
        "\n",
        "            acc = validate(imodel, test_dl, device)\n",
        "            if len(hypernet_states) > 1:\n",
        "                accs[-1].append(acc)\n",
        "            else:\n",
        "                accs.append(acc)\n",
        "\n",
        "    return accs"
      ],
      "metadata": {
        "id": "ZBlGRiEB8Noq"
      },
      "id": "ZBlGRiEB8Noq",
      "execution_count": 120,
      "outputs": []
    },
    {
      "cell_type": "code",
      "source": [
        "lambds=[0., 1., 2., 5., ]\n",
        "\n",
        "plt.figure(figsize=(10,5))\n",
        "\n",
        "base_acc = 0.6464342948717948\n",
        "plt.plot([lambds[0], lambds[-1]], [base_acc, base_acc], ls='--', label=\"base\")\n",
        "\n",
        "accs = get_accs(lambds, hypernet_states)\n",
        "for e, epoch_accs in enumerate(accs):\n",
        "    inc, dec = e/epoch, 1-e/epoch\n",
        "    color = (dec*0.5+0.25, dec*0.5+0.25, dec*0.5+0.25, ) # white to black\n",
        "    # color = (dec, dec, 0, ) # yellow to black\n",
        "    # color = (inc, inc, 0, ) # black to yellow\n",
        "    if e == 20:\n",
        "        plt.plot(lambds, epoch_accs, alpha=inc*0.5+0.5, color=color, label='hypernet')\n",
        "    else:\n",
        "        plt.plot(lambds, epoch_accs, alpha=inc*0.5+0.5, color=color)\n",
        "\n",
        "# plt.xscale('log')\n",
        "plt.ylabel('Точность')\n",
        "plt.xlabel('$\\lambda$')\n",
        "\n",
        "plt.legend()\n",
        "plt.savefig('/content/drive/MyDrive/m1p/figs/accuracy_versus_lambda_hypernet.png', bbox_inches='tight')"
      ],
      "metadata": {
        "id": "ctLpn_BaeGGI",
        "colab": {
          "base_uri": "https://localhost:8080/",
          "height": 336
        },
        "outputId": "bb99d877-b248-4bb3-c75c-9f863a5d7bcc"
      },
      "id": "ctLpn_BaeGGI",
      "execution_count": 122,
      "outputs": [
        {
          "output_type": "display_data",
          "data": {
            "text/plain": [
              "<Figure size 720x360 with 1 Axes>"
            ],
            "image/png": "[encoded data removed]"
          },
          "metadata": {}
        }
      ]
    },
    {
      "cell_type": "code",
      "source": [
        "plt.figure(figsize=(10,5))\n",
        "\n",
        "base = 1\n",
        "plt.plot([0, EPOCHS-1], [base, base], ls='--', label=\"base\")\n",
        "\n",
        "for lambd in lambds:\n",
        "    params_fraction = []\n",
        "    for hypernet_state in hypernet_states[::5]:\n",
        "        hypernet.load_state_dict(hypernet_state)\n",
        "        gamma = hypernet(torch.tensor([lambd]).to(device))\n",
        "        gamma = (gamma>0.0) * 1.0\n",
        "        params_fraction.append(gamma.cpu().mean())\n",
        "    plt.plot(np.arange(0, len(hypernet_states), 5), params_fraction, label=f\"$\\lambda={lambd}$\")\n",
        "\n",
        "plt.ylabel('Доля параметров')\n",
        "plt.xlabel('Эпоха')\n",
        "\n",
        "plt.legend()\n",
        "plt.savefig('/content/drive/MyDrive/m1p/figs/params_curve_for_lambdas_hypernet.png', bbox_inches='tight')"
      ],
      "metadata": {
        "colab": {
          "base_uri": "https://localhost:8080/",
          "height": 334
        },
        "id": "OqZkZFyzv19u",
        "outputId": "7f782d99-eec0-4dca-97c1-54809bc35ecb"
      },
      "id": "OqZkZFyzv19u",
      "execution_count": 130,
      "outputs": [
        {
          "output_type": "display_data",
          "data": {
            "text/plain": [
              "<Figure size 720x360 with 1 Axes>"
            ],
            "image/png": "[encoded data removed]"
          },
          "metadata": {}
        }
      ]
    },
    {
      "cell_type": "code",
      "source": [
        "plt.figure(figsize=(10,5))\n",
        "\n",
        "base = 1\n",
        "plt.plot([0, EPOCHS-1], [base, base], ls='--', label=\"base\")\n",
        "\n",
        "for lambd in lambds:\n",
        "    accels = []\n",
        "    for hypernet_state in hypernet_states[::5]:\n",
        "        hypernet.load_state_dict(hypernet_state)\n",
        "        gamma = hypernet(torch.tensor([lambd]).to(device))\n",
        "        gamma = (gamma>0.0) * 1.0\n",
        "        accels.append(1 / gamma.dot(times).cpu())\n",
        "    plt.plot(np.arange(0, len(hypernet_states), 5), accels, label=f\"$\\lambda={lambd}$\")\n",
        "\n",
        "plt.ylabel('Ускорение')\n",
        "plt.xlabel('Эпоха')\n",
        "\n",
        "plt.legend()\n",
        "plt.savefig('/content/drive/MyDrive/m1p/figs/acceleration_curve_for_lambdas_hypernet.png', bbox_inches='tight')"
      ],
      "metadata": {
        "colab": {
          "base_uri": "https://localhost:8080/",
          "height": 334
        },
        "id": "Wt1taOIszMOA",
        "outputId": "28a3fe63-ea3f-4907-975e-30fb9c58e64c"
      },
      "id": "Wt1taOIszMOA",
      "execution_count": 131,
      "outputs": [
        {
          "output_type": "display_data",
          "data": {
            "text/plain": [
              "<Figure size 720x360 with 1 Axes>"
            ],
            "image/png": "[encoded data removed]"
          },
          "metadata": {}
        }
      ]
    },
    {
      "cell_type": "code",
      "source": [],
      "metadata": {
        "id": "GX2rque6zjCl"
      },
      "id": "GX2rque6zjCl",
      "execution_count": null,
      "outputs": []
    }
  ],
  "metadata": {
    "accelerator": "GPU",
    "colab": {
      "provenance": []
    },
    "gpuClass": "standard",
    "kernelspec": {
      "display_name": "Python 3 (ipykernel)",
      "language": "python",
      "name": "python3"
    },
    "language_info": {
      "codemirror_mode": {
        "name": "ipython",
        "version": 3
      },
      "file_extension": ".py",
      "mimetype": "text/x-python",
      "name": "python",
      "nbconvert_exporter": "python",
      "pygments_lexer": "ipython3",
      "version": "3.8.2"
    },
    "vscode": {
      "interpreter": {
        "hash": "1a1af0ee75eeea9e2e1ee996c87e7a2b11a0bebd85af04bb136d915cefc0abce"
      }
    }
  },
  "nbformat": 4,
  "nbformat_minor": 5
}