{
  "cells": [
    {
      "cell_type": "markdown",
      "source": [
        "Для запуска в колабе будет удобно сделать ярлык на [папку](https://drive.google.com/drive/folders/1t-RrkkEU1cVZrpE0ZLnSt4O6Ti1N3176?usp=share_link).\n",
        "\n",
        "Измерения времени можно найти [тут](https://drive.google.com/file/d/1BQZy00Jz4Fsrc9YlDJdtlJ4Pvh0P9o3M/view?usp=share_link)."
      ],
      "metadata": {
        "id": "eLI1cxRLcwpH"
      },
      "id": "eLI1cxRLcwpH"
    },
    {
      "cell_type": "code",
      "execution_count": 1,
      "id": "V1lxU3VBHyYU",
      "metadata": {
        "id": "V1lxU3VBHyYU"
      },
      "outputs": [],
      "source": [
        "device = 'cuda'\n",
        "\n",
        "prefix = '/content/drive/MyDrive/m1p'\n",
        "model_path = f'{prefix}/pretrained/model_23.ckpt' # 'basic_experiment/data/model_23.ckpt' \n",
        "times_path = f'{prefix}/ResNet18HomeMeasurments.csv'\n",
        "fast_nas_adapt_path = prefix # 'basic_experiment'\n",
        "\n",
        "savefig = False"
      ]
    },
    {
      "cell_type": "code",
      "execution_count": 2,
      "id": "eO2UR9qYnz5G",
      "metadata": {
        "id": "eO2UR9qYnz5G",
        "colab": {
          "base_uri": "https://localhost:8080/"
        },
        "outputId": "9350cb8d-ef46-4ba3-f5b6-62943dd9c2ed"
      },
      "outputs": [
        {
          "output_type": "stream",
          "name": "stdout",
          "text": [
            "Drive already mounted at /content/drive; to attempt to forcibly remount, call drive.mount(\"/content/drive\", force_remount=True).\n"
          ]
        }
      ],
      "source": [
        "from google.colab import drive\n",
        "drive.mount('/content/drive')\n",
        "\n",
        "savefig = True # only if you have write access"
      ]
    },
    {
      "cell_type": "code",
      "execution_count": 3,
      "id": "6d034c3d",
      "metadata": {
        "colab": {
          "base_uri": "https://localhost:8080/"
        },
        "id": "6d034c3d",
        "outputId": "c9e8170c-027e-49f3-eb15-e06b3834448f"
      },
      "outputs": [
        {
          "output_type": "stream",
          "name": "stderr",
          "text": [
            "<ipython-input-3-fd3836d57644>:15: MatplotlibDeprecationWarning: The seaborn styles shipped by Matplotlib are deprecated since 3.6, as they no longer correspond to the styles shipped by seaborn. However, they will remain available as 'seaborn-v0_8-<style>'. Alternatively, directly use the seaborn API instead.\n",
            "  mpl.style.use('seaborn')\n"
          ]
        }
      ],
      "source": [
        "from tqdm import tqdm\n",
        "\n",
        "import torch\n",
        "import torch.nn as nn\n",
        "import torch.fx\n",
        "\n",
        "from torch.distributions.uniform import Uniform\n",
        "from torch.distributions.normal import Normal\n",
        "\n",
        "import numpy as np \n",
        "import pandas as pd\n",
        "import matplotlib as mpl\n",
        "import matplotlib.pyplot as plt\n",
        "import seaborn as sns\n",
        "mpl.style.use('seaborn')\n",
        "\n",
        "# TODO:\n",
        "# add the files to repository and clone it instead of importing it from drive\n",
        "import sys\n",
        "sys.path.append(fast_nas_adapt_path)\n",
        "\n",
        "from fast_nas_adapt.src.cifar_data import get_dataloaders\n",
        "from fast_nas_adapt.src.resnet18 import ResNet18\n",
        "from fast_nas_adapt.src.module2graph import GraphInterperterWithGamma"
      ]
    },
    {
      "cell_type": "code",
      "execution_count": 4,
      "id": "86333e9a-0ec1-4323-9de3-bb15c6efedce",
      "metadata": {
        "id": "86333e9a-0ec1-4323-9de3-bb15c6efedce"
      },
      "outputs": [],
      "source": [
        "class GraphInterperterWithGumbelSoftmaxGamma(GraphInterperterWithGamma):\n",
        "    def __init__(self, mod, gamma_shift=0.0, temperature=1.0):\n",
        "        self.gamma_shift = gamma_shift\n",
        "        self.temperature = temperature\n",
        "        super().__init__(mod)\n",
        "\n",
        "    def init_gammas(self):\n",
        "        i = 0\n",
        "        gammas = []\n",
        "        self.gammas_name = {}\n",
        "        self.atomic_operations = []\n",
        "        for node in self.graph.nodes:\n",
        "            if node.op == 'call_module':\n",
        "                self.atomic_operations.append(node)\n",
        "                gammas.append(np.random.randn()+self.gamma_shift)\n",
        "                self.gammas_name[str(node)] = i# перевод в str тут для удобства. в реалньых методах это не нужно\n",
        "                i+=1                        # да и вообще, тут по идее должен быть тензор/параметр\n",
        "        self.gammas = torch.as_tensor(gammas).to(device)\n",
        "        self.discrete = False \n",
        "\n",
        "    def sample_gammas(self, previous=False):\n",
        "        if self.discrete:\n",
        "            return self.gammas\n",
        "\n",
        "        if not previous:\n",
        "            d = torch.distributions.RelaxedBernoulli(logits=self.gammas, temperature=self.temperature)\n",
        "            self.last_sample = d.rsample()\n",
        "\n",
        "        return self.last_sample\n",
        "        \n",
        "    def make_gammas_discrete(self):\n",
        "        self.gammas.data = (self.gammas.data>0) * 1.0\n",
        "        self.discrete = True\n",
        "\n",
        "\n",
        "def get_imodel(init_gammas=None, *, discrete: bool, temperature: float=1, device=device, shift: float = 0):\n",
        "    result = GraphInterperterWithGumbelSoftmaxGamma(model.eval(), temperature=temperature,\n",
        "                                                    gamma_shift=shift).to(device).eval()\n",
        "    if init_gammas is not None:\n",
        "        result.gammas = init_gammas\n",
        "    if discrete:\n",
        "        result.make_gammas_discrete()\n",
        "    return result"
      ]
    },
    {
      "cell_type": "code",
      "execution_count": 5,
      "id": "iRBTITUpJwcb",
      "metadata": {
        "id": "iRBTITUpJwcb"
      },
      "outputs": [],
      "source": [
        "class HyperNet(nn.Module):\n",
        "    def __init__(self, out_size, hidden_layer_num=1, hidden_size=128):\n",
        "        \"\"\"\n",
        "        :param hidden_layer_num: количество скрытых слоев (может быть нулевым)\n",
        "        :param hidden_size: количество нейронов на скрытом слое (актуально, если скрытые слои есть)\n",
        "        :param out_size: количество параметров\n",
        "        \"\"\"\n",
        "        nn.Module.__init__(self)\n",
        "\n",
        "        layers = []\n",
        "        in_ = 1 # исходная входная размерность\n",
        "        for _ in range(hidden_layer_num):\n",
        "            layers.append(nn.Linear(in_, hidden_size))\n",
        "            layers.append(nn.ReLU())\n",
        "            in_ = hidden_size\n",
        "        layers.append(nn.Linear(in_, out_size))\n",
        "\n",
        "        self.model = nn.Sequential(*layers)\n",
        "\n",
        "    def forward(self, lambd):\n",
        "        return self.model(lambd)\n",
        "\n",
        "\n",
        "class PwHypernet(nn.Module):\n",
        "    def __init__(self, n_intervals:int = 5, out_size: int = 10, *, Lambd):\n",
        "        super().__init__()\n",
        "        self.intervals = nn.Parameter(torch.randn(n_intervals, out_size))\n",
        "        self.Lambd = Lambd\n",
        "        \n",
        "    def forward(self, lambd: torch.Tensor):\n",
        "        assert 0 <= lambd and lambd < self.Lambd, f'lambd should be in [0, Lambd={self.Lambd})'\n",
        "\n",
        "        idx = (lambd / self.Lambd * self.intervals.shape[0]).long().item()\n",
        "        return self.intervals[idx]"
      ]
    },
    {
      "cell_type": "code",
      "execution_count": 6,
      "id": "02edb62a",
      "metadata": {
        "colab": {
          "base_uri": "https://localhost:8080/"
        },
        "id": "02edb62a",
        "outputId": "bac4517f-7681-4ca0-e8af-d2803c00e8c0"
      },
      "outputs": [
        {
          "output_type": "stream",
          "name": "stderr",
          "text": [
            "Using cache found in /root/.cache/torch/hub/pytorch_vision_v0.10.0\n",
            "/usr/local/lib/python3.9/dist-packages/torchvision/models/_utils.py:208: UserWarning: The parameter 'pretrained' is deprecated since 0.13 and may be removed in the future, please use 'weights' instead.\n",
            "  warnings.warn(\n",
            "/usr/local/lib/python3.9/dist-packages/torchvision/models/_utils.py:223: UserWarning: Arguments other than a weight enum or `None` for 'weights' are deprecated since 0.13 and may be removed in the future. The current behavior is equivalent to passing `weights=ResNet18_Weights.IMAGENET1K_V1`. You can also use `weights=ResNet18_Weights.DEFAULT` to get the most up-to-date weights.\n",
            "  warnings.warn(msg)\n"
          ]
        },
        {
          "output_type": "stream",
          "name": "stdout",
          "text": [
            "Files already downloaded and verified\n",
            "Files already downloaded and verified\n"
          ]
        }
      ],
      "source": [
        "model = ResNet18(num_classes=10).to(device)\n",
        "model.load_state_dict(torch.load(model_path))\n",
        "\n",
        "train_dl, test_dl = get_dataloaders(classes=range(10), batch_size=64, img_size=33)\n",
        "\n",
        "try:\n",
        "    times = pd.read_csv(times_path, index_col=0)\n",
        "    times = torch.tensor(times['mean'], dtype=torch.float32).to(device)\n",
        "except:\n",
        "    print('assuming time is uniform')\n",
        "    times = torch.ones_like(get_imodel(discrete=False).gammas)\n",
        "\n",
        "times /= times.sum()"
      ]
    },
    {
      "cell_type": "code",
      "execution_count": 7,
      "id": "80J_nVcSwswL",
      "metadata": {
        "id": "80J_nVcSwswL"
      },
      "outputs": [],
      "source": [
        "loss_fn = torch.nn.CrossEntropyLoss()\n",
        "\n",
        "ACC, LOSS, LAT = {'accuracy'}, {'loss'}, {'latency'}\n",
        "ALL = ACC | LOSS | LAT\n",
        "\n",
        "@torch.no_grad()\n",
        "def validate(model, dataloader, device, getters: set=ALL):\n",
        "    n_true, n_tot = 0, 0\n",
        "    loss, latency = 0, 0\n",
        "\n",
        "    for i, (X, y) in enumerate(dataloader):\n",
        "        if X.shape[0] != 64:\n",
        "            continue\n",
        "\n",
        "        y_pred = model(X.to(device))\n",
        "\n",
        "        n_tot += 64\n",
        "\n",
        "        if 'accuracy' in getters:\n",
        "            n_true += (y_pred.argmax(-1) == y.to(device)).sum().item()\n",
        "        if 'loss' in getters:\n",
        "            loss += loss_fn(y_pred, y.to(device)).item() * 64\n",
        "        if 'latency' in getters:\n",
        "            latency += model.sample_gammas(previous=True).dot(times).item() * 64\n",
        "\n",
        "    return n_true / n_tot, loss / n_tot, latency / n_tot"
      ]
    },
    {
      "cell_type": "code",
      "execution_count": 8,
      "id": "cb75b59a-e807-4ac7-b452-09344836505e",
      "metadata": {
        "colab": {
          "base_uri": "https://localhost:8080/"
        },
        "id": "cb75b59a-e807-4ac7-b452-09344836505e",
        "outputId": "7a022d1d-7cf5-4285-a6cb-141a20b2072a"
      },
      "outputs": [
        {
          "output_type": "execute_result",
          "data": {
            "text/plain": [
              "(0.6464342948717948, 1.3685274429810352)"
            ]
          },
          "metadata": {},
          "execution_count": 8
        }
      ],
      "source": [
        "base_accuracy, base_loss, _ = validate(model.to(device), test_dl, device, ACC | LOSS)\n",
        "base_accuracy, base_loss"
      ]
    },
    {
      "cell_type": "code",
      "execution_count": 9,
      "id": "gcJlWuAQGm3K",
      "metadata": {
        "colab": {
          "base_uri": "https://localhost:8080/"
        },
        "id": "gcJlWuAQGm3K",
        "outputId": "cb0da73a-614d-40e2-be34-98f71c7ed397"
      },
      "outputs": [
        {
          "output_type": "execute_result",
          "data": {
            "text/plain": [
              "(0.0999599358974359, 2.3025848865509033)"
            ]
          },
          "metadata": {},
          "execution_count": 9
        }
      ],
      "source": [
        "gammas = torch.zeros_like(get_imodel(discrete=False).gammas).to(device)\n",
        "imodel = get_imodel(gammas, discrete=True)\n",
        "\n",
        "worst_accuracy, worst_loss, _ = validate(imodel, test_dl, device, ACC | LOSS)\n",
        "worst_accuracy, worst_loss"
      ]
    },
    {
      "cell_type": "code",
      "execution_count": 10,
      "id": "1MqtCrzfASfq",
      "metadata": {
        "id": "1MqtCrzfASfq"
      },
      "outputs": [],
      "source": [
        "Lambd = 10.0\n",
        "lambda_sampler = Uniform(0, Lambd)\n",
        "\n",
        "\n",
        "def train_epoch(imodel, hypernet, optimizer, lambda_sampler=lambda_sampler, dl=train_dl, temperature=1):\n",
        "    for i, (X, y) in enumerate(dl):\n",
        "        if X.shape[0] != 64:\n",
        "            continue\n",
        "\n",
        "        lambd = lambda_sampler.sample().to(device).view(1)\n",
        "\n",
        "        optimizer.zero_grad()\n",
        "\n",
        "        gammas = hypernet(lambd)\n",
        "        imodel.gammas = gammas\n",
        "        y_pred = imodel(X.to(device))\n",
        "        loss = loss_fn(y_pred, y.to(device)) + lambd * imodel.sample_gammas(previous=False).dot(times)\n",
        "        loss.backward()\n",
        "\n",
        "        optimizer.step()"
      ]
    },
    {
      "cell_type": "code",
      "execution_count": 11,
      "id": "5mEk_Fa91Btf",
      "metadata": {
        "colab": {
          "base_uri": "https://localhost:8080/"
        },
        "id": "5mEk_Fa91Btf",
        "outputId": "dd880d51-0cdb-4f06-a962-59df3ab1e719"
      },
      "outputs": [
        {
          "output_type": "stream",
          "name": "stdout",
          "text": [
            "0.3401442307692308 4.0\n",
            "0.4515224358974359 4.5\n"
          ]
        },
        {
          "output_type": "execute_result",
          "data": {
            "text/plain": [
              "tensor([0.9937, 0.9895, 0.9893, 0.9665, 0.9843, 0.9817, 0.9918, 0.9928, 0.9765,\n",
              "        0.9984, 0.9544, 0.9921, 0.9454, 0.9741, 0.9675, 0.9785, 0.9870, 0.9966,\n",
              "        0.9974, 0.9800, 0.9935, 0.9929, 0.9983, 0.9892, 0.9951, 0.9852, 0.9677,\n",
              "        0.9888, 0.9934, 0.9979, 0.9877, 0.9788, 0.9933, 0.9916, 0.9747, 0.9870,\n",
              "        0.9830, 0.9928, 0.9916, 0.9864, 0.9958, 0.9877, 0.9944, 0.9815, 0.9839,\n",
              "        0.9888, 0.9771, 0.9874, 0.9993, 0.9814, 0.9976, 0.9389, 0.9843, 0.9768,\n",
              "        0.9980, 0.9965, 0.8683, 0.9774, 0.9970, 0.8947], device='cuda:0')"
            ]
          },
          "metadata": {},
          "execution_count": 11
        }
      ],
      "source": [
        "current_accuracy = worst_accuracy\n",
        "curr_shift = 4.0\n",
        "init_gammas = None\n",
        "\n",
        "while current_accuracy <= 0.4:\n",
        "    imodel = get_imodel(discrete=False, shift=curr_shift)\n",
        "    current_accuracy, _, _ = validate(imodel, test_dl, device, ACC)\n",
        "\n",
        "    print(current_accuracy, curr_shift)\n",
        "    \n",
        "    curr_shift += 0.5\n",
        "\n",
        "curr_shift -= 0.5\n",
        "init_gammas = imodel.gammas\n",
        "init_gammas.sigmoid()"
      ]
    },
    {
      "cell_type": "code",
      "execution_count": 12,
      "id": "384b99a5",
      "metadata": {
        "id": "384b99a5"
      },
      "outputs": [],
      "source": [
        "hypernet = PwHypernet(n_intervals=10, out_size=imodel.gammas.numel(), Lambd=Lambd).to(device)\n",
        "optimizer = torch.optim.Adam(hypernet.parameters(), lr=5e-2)\n",
        "\n",
        "hypernet.intervals.data = hypernet.intervals.data * 0 + init_gammas[None].data\n",
        "\n",
        "lambd = torch.tensor(0.0).to(device)\n",
        "assert torch.all(hypernet(lambd) == hypernet(lambd + 0.5))"
      ]
    },
    {
      "cell_type": "code",
      "execution_count": 13,
      "id": "ib8bre6FJqjx",
      "metadata": {
        "colab": {
          "base_uri": "https://localhost:8080/"
        },
        "id": "ib8bre6FJqjx",
        "outputId": "e582ef18-1355-4e29-f2bf-0cafaf8fa730"
      },
      "outputs": [
        {
          "output_type": "stream",
          "name": "stderr",
          "text": [
            "training: 100%|██████████| 15/15 [08:58<00:00, 35.92s/it]\n"
          ]
        }
      ],
      "source": [
        "EPOCHS = 15\n",
        "\n",
        "temperature = 0.3\n",
        "\n",
        "lambda_report = {}\n",
        "\n",
        "for epoch in tqdm(range(EPOCHS), desc='training', total=EPOCHS):\n",
        "    hypernet.train()\n",
        "\n",
        "    train_epoch(imodel, hypernet, optimizer, temperature=temperature)\n",
        "    temperature -= 0.05\n",
        "    temperature = max(0.15, temperature)\n",
        "\n",
        "    hypernet.eval()\n",
        "\n",
        "    with torch.no_grad():\n",
        "        for lambd in list(range(10)):\n",
        "            gammas = hypernet(torch.tensor(lambd))\n",
        "            imodel = get_imodel(gammas, discrete=False)\n",
        "\n",
        "            acc, loss, latency = validate(imodel, test_dl, device)\n",
        "\n",
        "            lambda_report.setdefault(f'{lambd}', {})\n",
        "            lambda_report[f'{lambd}'].setdefault('acc', []).append(acc)\n",
        "            lambda_report[f'{lambd}'].setdefault('latency', []).append(latency)"
      ]
    },
    {
      "cell_type": "code",
      "source": [
        "fig, axs = plt.subplots(2, 5, figsize=(20, 6))\n",
        "\n",
        "for i, key in enumerate(lambda_report):\n",
        "    axs[i//5][i%5].set_title(rf\"$\\lambda={key}$\")\n",
        "    axs[i//5][i%5].plot([base_accuracy]*EPOCHS, label='base', ls=':')\n",
        "    axs[i//5][i%5].plot(lambda_report[key]['acc'], label='acc')\n",
        "    axs[i//5][i%5].plot(lambda_report[key]['latency'], label='lat')\n",
        "    axs[i//5][i%5].legend()\n",
        "    axs[i//5][i%5].set_ylim(0, 1)\n",
        "\n",
        "if savefig:\n",
        "    plt.savefig(f'{prefix}/figs/v2/convergence.png', bbox_inches='tight')"
      ],
      "metadata": {
        "id": "YCTjhpcBmqY2",
        "colab": {
          "base_uri": "https://localhost:8080/",
          "height": 390
        },
        "outputId": "e89f26f7-ace1-42db-bbaa-af1198e65d6a"
      },
      "id": "YCTjhpcBmqY2",
      "execution_count": 14,
      "outputs": [
        {
          "output_type": "display_data",
          "data": {
            "text/plain": [
              "<Figure size 1440x432 with 10 Axes>"
            ],
            "image/png": "[encoded data removed]"
          },
          "metadata": {}
        }
      ]
    },
    {
      "cell_type": "code",
      "source": [
        "plt.figure(figsize=(5,3))\n",
        "\n",
        "accuracy_vs_lambda = []\n",
        "latency_vs_lambda = []\n",
        "\n",
        "lambd_grid = [i for i in range(10)]\n",
        "\n",
        "for lambd in lambd_grid:\n",
        "  gammas = hypernet(torch.tensor(lambd))\n",
        "  imodel = get_imodel(gammas, discrete=True)\n",
        "  accuracy, _, latency = validate(imodel, test_dl, device)\n",
        "\n",
        "  latency_vs_lambda.append(latency)\n",
        "  accuracy_vs_lambda.append(accuracy)\n",
        "\n",
        "plt.xticks(list(range(10)))\n",
        "plt.plot(lambd_grid, latency_vs_lambda, label='lat')\n",
        "plt.plot(lambd_grid, accuracy_vs_lambda, label='acc')\n",
        "plt.legend()\n",
        "\n",
        "if savefig:\n",
        "    plt.savefig(f'{prefix}/figs/v2/lat&acc-lambd.png', bbox_inches='tight')"
      ],
      "metadata": {
        "id": "E03APDT2uPPe",
        "colab": {
          "base_uri": "https://localhost:8080/",
          "height": 211
        },
        "outputId": "14d7436f-8624-4752-fe79-d54865577dc4"
      },
      "id": "E03APDT2uPPe",
      "execution_count": 15,
      "outputs": [
        {
          "output_type": "display_data",
          "data": {
            "text/plain": [
              "<Figure size 360x216 with 1 Axes>"
            ],
            "image/png": "[encoded data removed]"
          },
          "metadata": {}
        }
      ]
    }
  ],
  "metadata": {
    "accelerator": "GPU",
    "colab": {
      "provenance": []
    },
    "gpuClass": "standard",
    "kernelspec": {
      "display_name": "Python 3 (ipykernel)",
      "language": "python",
      "name": "python3"
    },
    "language_info": {
      "codemirror_mode": {
        "name": "ipython",
        "version": 3
      },
      "file_extension": ".py",
      "mimetype": "text/x-python",
      "name": "python",
      "nbconvert_exporter": "python",
      "pygments_lexer": "ipython3",
      "version": "3.7.13"
    },
    "vscode": {
      "interpreter": {
        "hash": "1a1af0ee75eeea9e2e1ee996c87e7a2b11a0bebd85af04bb136d915cefc0abce"
      }
    }
  },
  "nbformat": 4,
  "nbformat_minor": 5
}