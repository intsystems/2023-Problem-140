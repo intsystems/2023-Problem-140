{
  "cells": [
    {
      "attachments": {},
      "cell_type": "markdown",
      "id": "7d485660",
      "metadata": {},
      "source": [
        "## Запускается на колабе\n",
        "\n",
        "см. https://drive.google.com/drive/folders/1t-RrkkEU1cVZrpE0ZLnSt4O6Ti1N3176?usp=sharing\n",
        "\n",
        "Можно сделать алиас на эту папку, чтобы работало. Но не получиться сохранять графики, потому что ссылка даёт доступ на читателя. Стоит закомментировать строчки:\n",
        "\n",
        "`plt.savefig('/content/drive/MyDrive/m1p/figs/{}.png', bbox_inches='tight')`"
      ]
    },
    {
      "cell_type": "code",
      "execution_count": 1,
      "id": "eO2UR9qYnz5G",
      "metadata": {
        "colab": {
          "base_uri": "https://localhost:8080/"
        },
        "id": "eO2UR9qYnz5G",
        "outputId": "98db4ec1-d462-4912-e7b5-da6d1cb9cc6e"
      },
      "outputs": [
        {
          "name": "stdout",
          "output_type": "stream",
          "text": [
            "Drive already mounted at /content/drive; to attempt to forcibly remount, call drive.mount(\"/content/drive\", force_remount=True).\n"
          ]
        }
      ],
      "source": [
        "from google.colab import drive\n",
        "drive.mount('/content/drive')"
      ]
    },
    {
      "cell_type": "code",
      "execution_count": 2,
      "id": "6d034c3d",
      "metadata": {
        "id": "6d034c3d"
      },
      "outputs": [],
      "source": [
        "from tqdm import tqdm\n",
        "from typing import Dict\n",
        "import time\n",
        "\n",
        "import torch\n",
        "import torch.nn as nn\n",
        "import torch.fx\n",
        "from torch.distributions.uniform import Uniform\n",
        "\n",
        "import numpy as np \n",
        "import pandas as pd\n",
        "import matplotlib as mpl\n",
        "import matplotlib.pyplot as plt\n",
        "import seaborn as sns\n",
        "mpl.style.use('seaborn')\n",
        "\n",
        "import sys\n",
        "sys.path.append('/content/drive/MyDrive/m1p')\n",
        "\n",
        "from fast_nas_adapt.src.resnet18 import ResNet18\n",
        "from fast_nas_adapt.src.module2graph import GraphInterperterWithGamma\n"
      ]
    },
    {
      "cell_type": "code",
      "execution_count": 3,
      "id": "86333e9a-0ec1-4323-9de3-bb15c6efedce",
      "metadata": {
        "id": "86333e9a-0ec1-4323-9de3-bb15c6efedce"
      },
      "outputs": [],
      "source": [
        "class GraphInterperterWithGumbelSoftmaxGamma(GraphInterperterWithGamma):\n",
        "    def __init__(self, mod, gamma_shift=0.0, temperature=1.0):\n",
        "        self.gamma_shift = gamma_shift\n",
        "        self.temperature = temperature\n",
        "        super().__init__(mod)\n",
        "\n",
        "    def init_gammas(self):\n",
        "        i = 0\n",
        "        gammas = []\n",
        "        self.gammas_name = {}\n",
        "        for node in self.graph.nodes:\n",
        "            if node.op == 'call_module':\n",
        "                gammas.append(np.random.randn()+self.gamma_shift)\n",
        "                self.gammas_name[str(node)] = i# перевод в str тут для удобства. в реалньых методах это не нужно\n",
        "                i+=1                        # да и вообще, тут по идее должен быть тензор/параметр\n",
        "        self.gammas = torch.as_tensor(gammas)\n",
        "        self.discrete = False \n",
        "\n",
        "    def sample_gammas(self, previous=False):\n",
        "        if previous:\n",
        "            return self.previous_sample\n",
        "\n",
        "        if self.discrete:\n",
        "            return self.gammas\n",
        "        else:\n",
        "            d = torch.distributions.RelaxedBernoulli(logits=self.gammas, temperature=self.temperature)\n",
        "            self.previous_sample = d.rsample()\n",
        "            return self.previous_sample\n",
        "        \n",
        "    def make_gammas_discrete(self):\n",
        "        self.gammas.data = (self.gammas.data>=0) * 1.0\n",
        "        self.discrete = True"
      ]
    },
    {
      "cell_type": "code",
      "execution_count": 4,
      "id": "iRBTITUpJwcb",
      "metadata": {
        "id": "iRBTITUpJwcb"
      },
      "outputs": [],
      "source": [
        "class HyperNet(nn.Module):\n",
        "    def __init__(self, out_size, hidden_layer_num=1, hidden_size=128):\n",
        "        \"\"\"\n",
        "        :param hidden_layer_num: количество скрытых слоев (может быть нулевым)\n",
        "        :param hidden_size: количество нейронов на скрытом слое (актуально, если скрытые слои есть)\n",
        "        :param out_size: количество параметров\n",
        "        \"\"\"\n",
        "        nn.Module.__init__(self)\n",
        "\n",
        "        layers = []\n",
        "        in_ = 1 # исходная входная размерность\n",
        "        for _ in range(hidden_layer_num):\n",
        "            layers.append(nn.Linear(in_, hidden_size))\n",
        "            layers.append(nn.ReLU())\n",
        "            in_ = hidden_size\n",
        "        layers.append(nn.Linear(in_, out_size))\n",
        "\n",
        "        self.model = nn.Sequential(*layers)\n",
        "\n",
        "    def forward(self, lambd):\n",
        "        return self.model(lambd)"
      ]
    },
    {
      "cell_type": "markdown",
      "id": "9b90ba9f",
      "metadata": {
        "id": "9b90ba9f"
      },
      "source": [
        "Получим претрейн на n эпох"
      ]
    },
    {
      "cell_type": "code",
      "execution_count": 5,
      "id": "02edb62a",
      "metadata": {
        "colab": {
          "base_uri": "https://localhost:8080/"
        },
        "id": "02edb62a",
        "outputId": "6dacc855-1141-462d-d668-c82f772bd3c9"
      },
      "outputs": [
        {
          "name": "stderr",
          "output_type": "stream",
          "text": [
            "Using cache found in /root/.cache/torch/hub/pytorch_vision_v0.10.0\n"
          ]
        },
        {
          "data": {
            "text/plain": [
              "<All keys matched successfully>"
            ]
          },
          "execution_count": 5,
          "metadata": {},
          "output_type": "execute_result"
        }
      ],
      "source": [
        "model = ResNet18(num_classes=10).cuda()\n",
        "\n",
        "model_path = '/content/drive/MyDrive/m1p/pretrained/model_23.ckpt'\n",
        "state_dict = torch.load(model_path)\n",
        "model.load_state_dict(state_dict)"
      ]
    },
    {
      "cell_type": "code",
      "execution_count": 6,
      "id": "682c250e",
      "metadata": {
        "colab": {
          "base_uri": "https://localhost:8080/"
        },
        "id": "682c250e",
        "outputId": "a044229f-029b-4c98-d30f-cd887ad096d6",
        "scrolled": true
      },
      "outputs": [
        {
          "name": "stdout",
          "output_type": "stream",
          "text": [
            "Files already downloaded and verified\n",
            "Files already downloaded and verified\n"
          ]
        }
      ],
      "source": [
        "from fast_nas_adapt.src.cifar_data import get_dataloaders\n",
        "\n",
        "train_dl, test_dl = get_dataloaders(classes=range(10), batch_size=64,\n",
        "                                    img_size=33)\n"
      ]
    },
    {
      "cell_type": "code",
      "execution_count": 7,
      "id": "f8f4cc70-5acb-495b-868e-e00d2b93d305",
      "metadata": {
        "id": "f8f4cc70-5acb-495b-868e-e00d2b93d305"
      },
      "outputs": [],
      "source": [
        "@torch.no_grad()\n",
        "def validate(model, dataloader, device):\n",
        "    model = model.to(device)\n",
        "    n_true = 0\n",
        "    n_tot = 0\n",
        "    for i, (X, y) in tqdm(enumerate(dataloader), 'validating'):\n",
        "        if X.shape[0] != 64:\n",
        "            continue\n",
        "        n_true += (model(X.to(device)).argmax(-1) == y.to(device)).sum().item()\n",
        "        n_tot += 64\n",
        "    return n_true / n_tot"
      ]
    },
    {
      "cell_type": "code",
      "execution_count": 8,
      "id": "cb75b59a-e807-4ac7-b452-09344836505e",
      "metadata": {
        "colab": {
          "base_uri": "https://localhost:8080/"
        },
        "id": "cb75b59a-e807-4ac7-b452-09344836505e",
        "outputId": "d7aecf5c-dccf-4417-ea31-23e84a45eb9b"
      },
      "outputs": [
        {
          "name": "stderr",
          "output_type": "stream",
          "text": [
            "validating: 157it [00:03, 41.10it/s]\n"
          ]
        },
        {
          "data": {
            "text/plain": [
              "0.6464342948717948"
            ]
          },
          "execution_count": 8,
          "metadata": {},
          "output_type": "execute_result"
        }
      ],
      "source": [
        "validate(model, test_dl, 'cuda')"
      ]
    },
    {
      "cell_type": "markdown",
      "id": "a8f0d25d",
      "metadata": {
        "id": "a8f0d25d"
      },
      "source": [
        "Гиперпараметры:"
      ]
    },
    {
      "cell_type": "code",
      "execution_count": 17,
      "id": "384b99a5",
      "metadata": {
        "id": "384b99a5"
      },
      "outputs": [],
      "source": [
        "device = 'cuda'\n",
        "\n",
        "imodel = GraphInterperterWithGumbelSoftmaxGamma(model.eval(), 4, temperature=0.2).to(device).eval()\n",
        "\n",
        "params_count = len(imodel.gammas)\n",
        "hypernet = HyperNet(params_count, hidden_layer_num=0).to(device)\n",
        "\n",
        "optimizer = torch.optim.Adam(hypernet.parameters(), lr=0.1)\n",
        "loss_fn = torch.nn.CrossEntropyLoss()\n",
        "\n",
        "times_path = \"/content/drive/MyDrive/m1p/ResNet18HomeMeasurments.csv\"\n",
        "times = pd.read_csv(times_path, index_col=0)\n",
        "times = torch.tensor(times['mean'], dtype=torch.float32).cuda()\n",
        "times /= times.sum()"
      ]
    },
    {
      "cell_type": "code",
      "execution_count": 18,
      "id": "l3X1dbmqmTrW",
      "metadata": {
        "colab": {
          "base_uri": "https://localhost:8080/"
        },
        "id": "l3X1dbmqmTrW",
        "outputId": "65ab327e-ffed-4d23-f407-31d43a8dfada"
      },
      "outputs": [
        {
          "data": {
            "text/plain": [
              "30.0"
            ]
          },
          "execution_count": 18,
          "metadata": {},
          "output_type": "execute_result"
        }
      ],
      "source": [
        "gammas = hypernet(torch.tensor([float(0)]).to(device))\n",
        "((gammas>0) * 1.0).sum().item()"
      ]
    },
    {
      "cell_type": "code",
      "execution_count": 19,
      "id": "ib8bre6FJqjx",
      "metadata": {
        "colab": {
          "base_uri": "https://localhost:8080/"
        },
        "id": "ib8bre6FJqjx",
        "outputId": "a472822f-c1cd-4abf-ae61-bf9d061dd1d4"
      },
      "outputs": [
        {
          "name": "stderr",
          "output_type": "stream",
          "text": [
            "training: 100%|██████████| 782/782 [00:19<00:00, 41.07it/s]\n",
            "training: 100%|██████████| 782/782 [00:18<00:00, 42.61it/s]\n",
            "training: 100%|██████████| 782/782 [00:19<00:00, 40.33it/s]\n"
          ]
        }
      ],
      "source": [
        "EPOCHS = 3*1\n",
        "lambd = Uniform(0, .00001)\n",
        "\n",
        "hypernet_states = []\n",
        "hypernet.train()\n",
        "\n",
        "for epoch in range(EPOCHS):\n",
        "    for i, (X, y) in tqdm(enumerate(train_dl), 'training', total=len(train_dl)):\n",
        "        if X.shape[0] != 64:\n",
        "            continue\n",
        "\n",
        "        l = lambd.sample().to(device).view(1)\n",
        "\n",
        "        optimizer.zero_grad()\n",
        "\n",
        "        gammas = hypernet(l)\n",
        "        imodel.gammas = gammas\n",
        "        y_pred = imodel(X.to(device))\n",
        "        loss = loss_fn(y_pred, y.to(device))# + l * imodel.sample_gammas(previous=True).dot(times)\n",
        "        # loss = ((gammas - 1)**2).sum()\n",
        "        loss.backward()\n",
        "        \n",
        "        optimizer.step()\n",
        "\n",
        "    hypernet_states.append(hypernet.state_dict())"
      ]
    },
    {
      "cell_type": "code",
      "execution_count": 20,
      "id": "jkps4WRMsUtP",
      "metadata": {
        "colab": {
          "base_uri": "https://localhost:8080/"
        },
        "id": "jkps4WRMsUtP",
        "outputId": "013ebdf1-3c19-4604-f3fb-7bab110a5a1e"
      },
      "outputs": [
        {
          "data": {
            "text/plain": [
              "24.0"
            ]
          },
          "execution_count": 20,
          "metadata": {},
          "output_type": "execute_result"
        }
      ],
      "source": [
        "gammas = hypernet(torch.tensor([float(0)]).to(device))\n",
        "((gammas>0) * 1.0).sum().item()"
      ]
    },
    {
      "cell_type": "code",
      "execution_count": 13,
      "id": "MYfxFiDcd6_o",
      "metadata": {
        "colab": {
          "base_uri": "https://localhost:8080/"
        },
        "id": "MYfxFiDcd6_o",
        "outputId": "8d4a00dc-6965-4611-a686-abf0b3f006d3"
      },
      "outputs": [
        {
          "name": "stderr",
          "output_type": "stream",
          "text": [
            "validating: 157it [00:01, 108.65it/s]\n",
            "validating: 157it [00:01, 106.92it/s]\n",
            "validating: 157it [00:02, 77.74it/s]\n",
            "validating: 157it [00:01, 90.09it/s] \n",
            "validating: 157it [00:01, 107.24it/s]\n"
          ]
        }
      ],
      "source": [
        "lambds = [0, 1, 2, 5, 10]\n",
        "\n",
        "accs = []\n",
        "\n",
        "hypernet.load_state_dict(hypernet_states[-1])\n",
        "\n",
        "for lambd in lambds:\n",
        "    gammas = hypernet(torch.tensor([float(lambd)]).to(device))\n",
        "    imodel.gammas = gammas\n",
        "    imodel.make_gammas_discrete()\n",
        "\n",
        "    acc = validate(imodel, test_dl, device)\n",
        "    accs.append(acc)\n",
        "\n",
        "imodel = GraphInterperterWithGumbelSoftmaxGamma(model.eval(), 4, temperature=0.2).to(device).eval()"
      ]
    },
    {
      "cell_type": "code",
      "execution_count": 14,
      "id": "ctLpn_BaeGGI",
      "metadata": {
        "colab": {
          "base_uri": "https://localhost:8080/",
          "height": 340
        },
        "id": "ctLpn_BaeGGI",
        "outputId": "0e33e5b9-7f47-4c81-b746-c21d82a5c208"
      },
      "outputs": [
        {
          "data": {
            "image/png": "[encoded data removed]",
            "text/plain": [
              "<Figure size 720x360 with 1 Axes>"
            ]
          },
          "metadata": {},
          "output_type": "display_data"
        }
      ],
      "source": [
        "plt.figure(figsize=(10,5))\n",
        "\n",
        "base_acc = 0.6464342948717948\n",
        "plt.plot([lambds[0], lambds[-1]], [base_acc, base_acc], ls='--', label=\"base\")\n",
        "\n",
        "plt.plot(lambds, accs, label=\"pruned by hyperned\")\n",
        "\n",
        "plt.xscale('log')\n",
        "plt.ylabel('Точность')\n",
        "plt.xlabel('$\\lambda$')\n",
        "\n",
        "plt.legend()\n",
        "plt.savefig('/content/drive/MyDrive/m1p/figs/accuracy_versus_lambda_hypernet.png', bbox_inches='tight')"
      ]
    },
    {
      "cell_type": "code",
      "execution_count": 15,
      "id": "BjvXSL14UfVo",
      "metadata": {
        "id": "BjvXSL14UfVo"
      },
      "outputs": [],
      "source": [
        "# lambds = [0, 1, 2, 5, 10]\n",
        "# history = {l: [] for l in lambds}\n",
        "\n",
        "# for hypernet_state in hypernet_states:\n",
        "#     hypernet.load_state_dict(hypernet_state)\n",
        "\n",
        "#     for lambd in lambds:\n",
        "#         gammas = hypernet(lambd)\n",
        "#         imodel.gammas = gammas\n",
        "#         imodel.make_gammas_discrete()\n",
        "\n",
        "#         acc = validate(imodel, test_dl, device)\n",
        "#         history[lambd].append(acc)"
      ]
    },
    {
      "cell_type": "code",
      "execution_count": 16,
      "id": "vOOO23_VWmSp",
      "metadata": {
        "id": "vOOO23_VWmSp"
      },
      "outputs": [],
      "source": [
        "# plt.figure(figsize=(10,5))\n",
        "\n",
        "# base_acc = 0.6464342948717948\n",
        "# plt.plot([1, EPOCHS], [base_acc, base_acc], ls='--', label=\"base\")\n",
        "\n",
        "# for lambd, accs in history.items():\n",
        "#     plt.plot(np.arange(EPOCHS)+1, accs, label=f\"$\\lambda={lambd}$\")\n",
        "\n",
        "# plt.ylabel('Точность')\n",
        "# plt.xlabel('Эпоха')\n",
        "\n",
        "# plt.legend()\n",
        "# plt.savefig('/content/drive/MyDrive/m1p/figs/learning_curve_hypernet.png', bbox_inches='tight')"
      ]
    },
    {
      "cell_type": "code",
      "execution_count": 16,
      "id": "kaP1NvQB0gL6",
      "metadata": {
        "id": "kaP1NvQB0gL6"
      },
      "outputs": [],
      "source": []
    }
  ],
  "metadata": {
    "accelerator": "GPU",
    "colab": {
      "provenance": []
    },
    "gpuClass": "standard",
    "kernelspec": {
      "display_name": "Python 3 (ipykernel)",
      "language": "python",
      "name": "python3"
    },
    "language_info": {
      "codemirror_mode": {
        "name": "ipython",
        "version": 3
      },
      "file_extension": ".py",
      "mimetype": "text/x-python",
      "name": "python",
      "nbconvert_exporter": "python",
      "pygments_lexer": "ipython3",
      "version": "3.8.2"
    },
    "vscode": {
      "interpreter": {
        "hash": "1a1af0ee75eeea9e2e1ee996c87e7a2b11a0bebd85af04bb136d915cefc0abce"
      }
    }
  },
  "nbformat": 4,
  "nbformat_minor": 5
}
